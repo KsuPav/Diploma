{
  "cells": [
    {
      "cell_type": "markdown",
      "metadata": {
        "id": "view-in-github",
        "colab_type": "text"
      },
      "source": [
        "<a href=\"https://colab.research.google.com/github/KsuPav/diploma/blob/main/Diplomchik.ipynb\" target=\"_parent\"><img src=\"https://colab.research.google.com/assets/colab-badge.svg\" alt=\"Open In Colab\"/></a>"
      ]
    },
    {
      "cell_type": "markdown",
      "metadata": {
        "id": "FvZhBWzSmFn8"
      },
      "source": [
        "https://debuggercafe.com/a-guide-to-xgboost-in-python/\n"
      ]
    },
    {
      "cell_type": "markdown",
      "metadata": {
        "id": "pxMDE9c271q8"
      },
      "source": [
        "**Импортируем необходимые библиотеки**"
      ]
    },
    {
      "cell_type": "code",
      "execution_count": null,
      "metadata": {
        "id": "T6JCSkgy8UHD"
      },
      "outputs": [],
      "source": [
        "import numpy as np\n",
        "import pandas as pd\n",
        "import matplotlib\n",
        "import matplotlib.pyplot as plt\n",
        "matplotlib.style.use('ggplot')\n",
        "%matplotlib inline\n",
        "\n",
        "import xgboost as xgb\n",
        "import sklearn\n",
        "from sklearn.preprocessing import LabelEncoder\n",
        "from sklearn.metrics import accuracy_score, balanced_accuracy_score, confusion_matrix, classification_report, multilabel_confusion_matrix,  recall_score, precision_score, f1_score\n",
        "from sklearn.metrics import mean_squared_error\n",
        "from sklearn.metrics import explained_variance_score\n",
        "from sklearn.model_selection import train_test_split\n",
        "\n"
      ]
    },
    {
      "cell_type": "markdown",
      "metadata": {
        "id": "OtUpfAdAyF3o"
      },
      "source": [
        "**Загрузка CSV-файла с гугл диска**"
      ]
    },
    {
      "cell_type": "code",
      "execution_count": null,
      "metadata": {
        "colab": {
          "base_uri": "https://localhost:8080/"
        },
        "id": "o4hSiBRgyjVg",
        "outputId": "aa821910-9a1d-4b99-c5fd-586f3aa9d21a"
      },
      "outputs": [
        {
          "output_type": "stream",
          "name": "stdout",
          "text": [
            "Mounted at /content/drive\n"
          ]
        }
      ],
      "source": [
        "from google.colab import drive\n",
        "drive.mount('/content/drive')\n",
        "\n",
        "data1 = pd.read_csv('/content/drive/My Drive/ДИПЛОМ/Colab Notebooks/data_2019_4_MA.csv', encoding = 'utf-8')\n",
        "data2 = pd.read_csv('/content/drive/My Drive/ДИПЛОМ/Colab Notebooks/data_2020_5_MA.csv', encoding = 'utf-8')\n",
        "\n",
        "data1 = pd.DataFrame(data1)\n",
        "data2 = pd.DataFrame(data2)"
      ]
    },
    {
      "cell_type": "code",
      "source": [
        "data1"
      ],
      "metadata": {
        "id": "y6gpAYODY3bN",
        "colab": {
          "base_uri": "https://localhost:8080/",
          "height": 423
        },
        "outputId": "b7e5d38f-9c44-4d4a-9c92-020ea89db694"
      },
      "execution_count": null,
      "outputs": [
        {
          "output_type": "execute_result",
          "data": {
            "text/plain": [
              "         Класс  Код_предмета      ЛогинОО  Балл  Отметка  Year  region_code  \\\n",
              "0            4             2  sch01110001    11        4  2019            1   \n",
              "1            4             2  sch01110001    18        5  2019            1   \n",
              "2            4             2  sch01110001     9        3  2019            1   \n",
              "3            4             2  sch01110001    11        4  2019            1   \n",
              "4            4             2  sch01110001     8        3  2019            1   \n",
              "...        ...           ...          ...   ...      ...   ...          ...   \n",
              "1382894      4             2  sch92126007     9        3  2019           92   \n",
              "1382895      4             2  sch92126007    16        5  2019           92   \n",
              "1382896      4             2  sch92126007    10        4  2019           92   \n",
              "1382897      4             2  sch92126007    17        5  2019           92   \n",
              "1382898      4             2  sch92126007    12        4  2019           92   \n",
              "\n",
              "              ввп  объекты  Транспортная доступность  \n",
              "0        309184.1      5.0                      8.38  \n",
              "1        309184.1      5.0                      8.38  \n",
              "2        309184.1      5.0                      8.38  \n",
              "3        309184.1      5.0                      8.38  \n",
              "4        309184.1      5.0                      8.38  \n",
              "...           ...      ...                       ...  \n",
              "1382894  295304.9     48.0                     10.68  \n",
              "1382895  295304.9     48.0                     10.68  \n",
              "1382896  295304.9     48.0                     10.68  \n",
              "1382897  295304.9     48.0                     10.68  \n",
              "1382898  295304.9     48.0                     10.68  \n",
              "\n",
              "[1382899 rows x 10 columns]"
            ],
            "text/html": [
              "\n",
              "  <div id=\"df-b57dd4b0-22a9-4349-bd16-9c2a3654371e\">\n",
              "    <div class=\"colab-df-container\">\n",
              "      <div>\n",
              "<style scoped>\n",
              "    .dataframe tbody tr th:only-of-type {\n",
              "        vertical-align: middle;\n",
              "    }\n",
              "\n",
              "    .dataframe tbody tr th {\n",
              "        vertical-align: top;\n",
              "    }\n",
              "\n",
              "    .dataframe thead th {\n",
              "        text-align: right;\n",
              "    }\n",
              "</style>\n",
              "<table border=\"1\" class=\"dataframe\">\n",
              "  <thead>\n",
              "    <tr style=\"text-align: right;\">\n",
              "      <th></th>\n",
              "      <th>Класс</th>\n",
              "      <th>Код_предмета</th>\n",
              "      <th>ЛогинОО</th>\n",
              "      <th>Балл</th>\n",
              "      <th>Отметка</th>\n",
              "      <th>Year</th>\n",
              "      <th>region_code</th>\n",
              "      <th>ввп</th>\n",
              "      <th>объекты</th>\n",
              "      <th>Транспортная доступность</th>\n",
              "    </tr>\n",
              "  </thead>\n",
              "  <tbody>\n",
              "    <tr>\n",
              "      <th>0</th>\n",
              "      <td>4</td>\n",
              "      <td>2</td>\n",
              "      <td>sch01110001</td>\n",
              "      <td>11</td>\n",
              "      <td>4</td>\n",
              "      <td>2019</td>\n",
              "      <td>1</td>\n",
              "      <td>309184.1</td>\n",
              "      <td>5.0</td>\n",
              "      <td>8.38</td>\n",
              "    </tr>\n",
              "    <tr>\n",
              "      <th>1</th>\n",
              "      <td>4</td>\n",
              "      <td>2</td>\n",
              "      <td>sch01110001</td>\n",
              "      <td>18</td>\n",
              "      <td>5</td>\n",
              "      <td>2019</td>\n",
              "      <td>1</td>\n",
              "      <td>309184.1</td>\n",
              "      <td>5.0</td>\n",
              "      <td>8.38</td>\n",
              "    </tr>\n",
              "    <tr>\n",
              "      <th>2</th>\n",
              "      <td>4</td>\n",
              "      <td>2</td>\n",
              "      <td>sch01110001</td>\n",
              "      <td>9</td>\n",
              "      <td>3</td>\n",
              "      <td>2019</td>\n",
              "      <td>1</td>\n",
              "      <td>309184.1</td>\n",
              "      <td>5.0</td>\n",
              "      <td>8.38</td>\n",
              "    </tr>\n",
              "    <tr>\n",
              "      <th>3</th>\n",
              "      <td>4</td>\n",
              "      <td>2</td>\n",
              "      <td>sch01110001</td>\n",
              "      <td>11</td>\n",
              "      <td>4</td>\n",
              "      <td>2019</td>\n",
              "      <td>1</td>\n",
              "      <td>309184.1</td>\n",
              "      <td>5.0</td>\n",
              "      <td>8.38</td>\n",
              "    </tr>\n",
              "    <tr>\n",
              "      <th>4</th>\n",
              "      <td>4</td>\n",
              "      <td>2</td>\n",
              "      <td>sch01110001</td>\n",
              "      <td>8</td>\n",
              "      <td>3</td>\n",
              "      <td>2019</td>\n",
              "      <td>1</td>\n",
              "      <td>309184.1</td>\n",
              "      <td>5.0</td>\n",
              "      <td>8.38</td>\n",
              "    </tr>\n",
              "    <tr>\n",
              "      <th>...</th>\n",
              "      <td>...</td>\n",
              "      <td>...</td>\n",
              "      <td>...</td>\n",
              "      <td>...</td>\n",
              "      <td>...</td>\n",
              "      <td>...</td>\n",
              "      <td>...</td>\n",
              "      <td>...</td>\n",
              "      <td>...</td>\n",
              "      <td>...</td>\n",
              "    </tr>\n",
              "    <tr>\n",
              "      <th>1382894</th>\n",
              "      <td>4</td>\n",
              "      <td>2</td>\n",
              "      <td>sch92126007</td>\n",
              "      <td>9</td>\n",
              "      <td>3</td>\n",
              "      <td>2019</td>\n",
              "      <td>92</td>\n",
              "      <td>295304.9</td>\n",
              "      <td>48.0</td>\n",
              "      <td>10.68</td>\n",
              "    </tr>\n",
              "    <tr>\n",
              "      <th>1382895</th>\n",
              "      <td>4</td>\n",
              "      <td>2</td>\n",
              "      <td>sch92126007</td>\n",
              "      <td>16</td>\n",
              "      <td>5</td>\n",
              "      <td>2019</td>\n",
              "      <td>92</td>\n",
              "      <td>295304.9</td>\n",
              "      <td>48.0</td>\n",
              "      <td>10.68</td>\n",
              "    </tr>\n",
              "    <tr>\n",
              "      <th>1382896</th>\n",
              "      <td>4</td>\n",
              "      <td>2</td>\n",
              "      <td>sch92126007</td>\n",
              "      <td>10</td>\n",
              "      <td>4</td>\n",
              "      <td>2019</td>\n",
              "      <td>92</td>\n",
              "      <td>295304.9</td>\n",
              "      <td>48.0</td>\n",
              "      <td>10.68</td>\n",
              "    </tr>\n",
              "    <tr>\n",
              "      <th>1382897</th>\n",
              "      <td>4</td>\n",
              "      <td>2</td>\n",
              "      <td>sch92126007</td>\n",
              "      <td>17</td>\n",
              "      <td>5</td>\n",
              "      <td>2019</td>\n",
              "      <td>92</td>\n",
              "      <td>295304.9</td>\n",
              "      <td>48.0</td>\n",
              "      <td>10.68</td>\n",
              "    </tr>\n",
              "    <tr>\n",
              "      <th>1382898</th>\n",
              "      <td>4</td>\n",
              "      <td>2</td>\n",
              "      <td>sch92126007</td>\n",
              "      <td>12</td>\n",
              "      <td>4</td>\n",
              "      <td>2019</td>\n",
              "      <td>92</td>\n",
              "      <td>295304.9</td>\n",
              "      <td>48.0</td>\n",
              "      <td>10.68</td>\n",
              "    </tr>\n",
              "  </tbody>\n",
              "</table>\n",
              "<p>1382899 rows × 10 columns</p>\n",
              "</div>\n",
              "      <button class=\"colab-df-convert\" onclick=\"convertToInteractive('df-b57dd4b0-22a9-4349-bd16-9c2a3654371e')\"\n",
              "              title=\"Convert this dataframe to an interactive table.\"\n",
              "              style=\"display:none;\">\n",
              "        \n",
              "  <svg xmlns=\"http://www.w3.org/2000/svg\" height=\"24px\"viewBox=\"0 0 24 24\"\n",
              "       width=\"24px\">\n",
              "    <path d=\"M0 0h24v24H0V0z\" fill=\"none\"/>\n",
              "    <path d=\"M18.56 5.44l.94 2.06.94-2.06 2.06-.94-2.06-.94-.94-2.06-.94 2.06-2.06.94zm-11 1L8.5 8.5l.94-2.06 2.06-.94-2.06-.94L8.5 2.5l-.94 2.06-2.06.94zm10 10l.94 2.06.94-2.06 2.06-.94-2.06-.94-.94-2.06-.94 2.06-2.06.94z\"/><path d=\"M17.41 7.96l-1.37-1.37c-.4-.4-.92-.59-1.43-.59-.52 0-1.04.2-1.43.59L10.3 9.45l-7.72 7.72c-.78.78-.78 2.05 0 2.83L4 21.41c.39.39.9.59 1.41.59.51 0 1.02-.2 1.41-.59l7.78-7.78 2.81-2.81c.8-.78.8-2.07 0-2.86zM5.41 20L4 18.59l7.72-7.72 1.47 1.35L5.41 20z\"/>\n",
              "  </svg>\n",
              "      </button>\n",
              "      \n",
              "  <style>\n",
              "    .colab-df-container {\n",
              "      display:flex;\n",
              "      flex-wrap:wrap;\n",
              "      gap: 12px;\n",
              "    }\n",
              "\n",
              "    .colab-df-convert {\n",
              "      background-color: #E8F0FE;\n",
              "      border: none;\n",
              "      border-radius: 50%;\n",
              "      cursor: pointer;\n",
              "      display: none;\n",
              "      fill: #1967D2;\n",
              "      height: 32px;\n",
              "      padding: 0 0 0 0;\n",
              "      width: 32px;\n",
              "    }\n",
              "\n",
              "    .colab-df-convert:hover {\n",
              "      background-color: #E2EBFA;\n",
              "      box-shadow: 0px 1px 2px rgba(60, 64, 67, 0.3), 0px 1px 3px 1px rgba(60, 64, 67, 0.15);\n",
              "      fill: #174EA6;\n",
              "    }\n",
              "\n",
              "    [theme=dark] .colab-df-convert {\n",
              "      background-color: #3B4455;\n",
              "      fill: #D2E3FC;\n",
              "    }\n",
              "\n",
              "    [theme=dark] .colab-df-convert:hover {\n",
              "      background-color: #434B5C;\n",
              "      box-shadow: 0px 1px 3px 1px rgba(0, 0, 0, 0.15);\n",
              "      filter: drop-shadow(0px 1px 2px rgba(0, 0, 0, 0.3));\n",
              "      fill: #FFFFFF;\n",
              "    }\n",
              "  </style>\n",
              "\n",
              "      <script>\n",
              "        const buttonEl =\n",
              "          document.querySelector('#df-b57dd4b0-22a9-4349-bd16-9c2a3654371e button.colab-df-convert');\n",
              "        buttonEl.style.display =\n",
              "          google.colab.kernel.accessAllowed ? 'block' : 'none';\n",
              "\n",
              "        async function convertToInteractive(key) {\n",
              "          const element = document.querySelector('#df-b57dd4b0-22a9-4349-bd16-9c2a3654371e');\n",
              "          const dataTable =\n",
              "            await google.colab.kernel.invokeFunction('convertToInteractive',\n",
              "                                                     [key], {});\n",
              "          if (!dataTable) return;\n",
              "\n",
              "          const docLinkHtml = 'Like what you see? Visit the ' +\n",
              "            '<a target=\"_blank\" href=https://colab.research.google.com/notebooks/data_table.ipynb>data table notebook</a>'\n",
              "            + ' to learn more about interactive tables.';\n",
              "          element.innerHTML = '';\n",
              "          dataTable['output_type'] = 'display_data';\n",
              "          await google.colab.output.renderOutput(dataTable, element);\n",
              "          const docLink = document.createElement('div');\n",
              "          docLink.innerHTML = docLinkHtml;\n",
              "          element.appendChild(docLink);\n",
              "        }\n",
              "      </script>\n",
              "    </div>\n",
              "  </div>\n",
              "  "
            ]
          },
          "metadata": {},
          "execution_count": 90
        }
      ]
    },
    {
      "cell_type": "code",
      "source": [
        "a = data1.ЛогинОО.unique()"
      ],
      "metadata": {
        "id": "JURiyc8a9Fui"
      },
      "execution_count": null,
      "outputs": []
    },
    {
      "cell_type": "code",
      "source": [
        "print(data1.Класс.unique())"
      ],
      "metadata": {
        "colab": {
          "base_uri": "https://localhost:8080/"
        },
        "id": "LXwXP55GLSv8",
        "outputId": "499a67f5-c788-4390-ba70-b042582e21da"
      },
      "execution_count": null,
      "outputs": [
        {
          "output_type": "stream",
          "name": "stdout",
          "text": [
            "[4]\n"
          ]
        }
      ]
    },
    {
      "cell_type": "code",
      "source": [
        "data1['ЛогинОО'].value_counts()"
      ],
      "metadata": {
        "colab": {
          "base_uri": "https://localhost:8080/"
        },
        "id": "TK3QJRiTNv-z",
        "outputId": "1bd43064-c39f-4345-9cb1-f6c1b15a5aa9"
      },
      "execution_count": null,
      "outputs": [
        {
          "output_type": "execute_result",
          "data": {
            "text/plain": [
              "sch23133985    731\n",
              "sch72120397    670\n",
              "sch23133988    548\n",
              "sch72123046    534\n",
              "sch24146265    417\n",
              "              ... \n",
              "sch31116113      1\n",
              "sch46166013      1\n",
              "sch27173202      1\n",
              "sch24146238      1\n",
              "sch46163286      1\n",
              "Name: ЛогинОО, Length: 35667, dtype: int64"
            ]
          },
          "metadata": {},
          "execution_count": 9
        }
      ]
    },
    {
      "cell_type": "code",
      "source": [
        "  mask = data1['region_code'] == 1\n",
        "  ch = data1[mask]"
      ],
      "metadata": {
        "id": "AWAYwLD9OE4T"
      },
      "execution_count": null,
      "outputs": []
    },
    {
      "cell_type": "code",
      "source": [
        "ch"
      ],
      "metadata": {
        "colab": {
          "base_uri": "https://localhost:8080/",
          "height": 423
        },
        "id": "TedkW6-MOJ0L",
        "outputId": "1c2dab75-8cfa-4db4-84aa-bb9834e4017d"
      },
      "execution_count": null,
      "outputs": [
        {
          "output_type": "execute_result",
          "data": {
            "text/plain": [
              "      Класс  Код_предмета      ЛогинОО  Балл  Отметка  Year  region_code  \\\n",
              "0         4             2  sch01110001    11        4  2019            1   \n",
              "1         4             2  sch01110001    18        5  2019            1   \n",
              "2         4             2  sch01110001     9        3  2019            1   \n",
              "3         4             2  sch01110001    11        4  2019            1   \n",
              "4         4             2  sch01110001     8        3  2019            1   \n",
              "...     ...           ...          ...   ...      ...   ...          ...   \n",
              "5607      4             2  sch01116052    16        5  2019            1   \n",
              "5608      4             2  sch01116052    13        4  2019            1   \n",
              "5609      4             2  sch01116052    14        4  2019            1   \n",
              "5610      4             2  sch01116052     9        3  2019            1   \n",
              "5611      4             2  sch01116052    15        5  2019            1   \n",
              "\n",
              "           ввп  объекты  Транспортная доступность  \n",
              "0     309184.1      5.0                      8.38  \n",
              "1     309184.1      5.0                      8.38  \n",
              "2     309184.1      5.0                      8.38  \n",
              "3     309184.1      5.0                      8.38  \n",
              "4     309184.1      5.0                      8.38  \n",
              "...        ...      ...                       ...  \n",
              "5607  309184.1      5.0                      8.38  \n",
              "5608  309184.1      5.0                      8.38  \n",
              "5609  309184.1      5.0                      8.38  \n",
              "5610  309184.1      5.0                      8.38  \n",
              "5611  309184.1      5.0                      8.38  \n",
              "\n",
              "[5612 rows x 10 columns]"
            ],
            "text/html": [
              "\n",
              "  <div id=\"df-51e9d035-3714-49a8-8cb1-4ec2af0b7294\">\n",
              "    <div class=\"colab-df-container\">\n",
              "      <div>\n",
              "<style scoped>\n",
              "    .dataframe tbody tr th:only-of-type {\n",
              "        vertical-align: middle;\n",
              "    }\n",
              "\n",
              "    .dataframe tbody tr th {\n",
              "        vertical-align: top;\n",
              "    }\n",
              "\n",
              "    .dataframe thead th {\n",
              "        text-align: right;\n",
              "    }\n",
              "</style>\n",
              "<table border=\"1\" class=\"dataframe\">\n",
              "  <thead>\n",
              "    <tr style=\"text-align: right;\">\n",
              "      <th></th>\n",
              "      <th>Класс</th>\n",
              "      <th>Код_предмета</th>\n",
              "      <th>ЛогинОО</th>\n",
              "      <th>Балл</th>\n",
              "      <th>Отметка</th>\n",
              "      <th>Year</th>\n",
              "      <th>region_code</th>\n",
              "      <th>ввп</th>\n",
              "      <th>объекты</th>\n",
              "      <th>Транспортная доступность</th>\n",
              "    </tr>\n",
              "  </thead>\n",
              "  <tbody>\n",
              "    <tr>\n",
              "      <th>0</th>\n",
              "      <td>4</td>\n",
              "      <td>2</td>\n",
              "      <td>sch01110001</td>\n",
              "      <td>11</td>\n",
              "      <td>4</td>\n",
              "      <td>2019</td>\n",
              "      <td>1</td>\n",
              "      <td>309184.1</td>\n",
              "      <td>5.0</td>\n",
              "      <td>8.38</td>\n",
              "    </tr>\n",
              "    <tr>\n",
              "      <th>1</th>\n",
              "      <td>4</td>\n",
              "      <td>2</td>\n",
              "      <td>sch01110001</td>\n",
              "      <td>18</td>\n",
              "      <td>5</td>\n",
              "      <td>2019</td>\n",
              "      <td>1</td>\n",
              "      <td>309184.1</td>\n",
              "      <td>5.0</td>\n",
              "      <td>8.38</td>\n",
              "    </tr>\n",
              "    <tr>\n",
              "      <th>2</th>\n",
              "      <td>4</td>\n",
              "      <td>2</td>\n",
              "      <td>sch01110001</td>\n",
              "      <td>9</td>\n",
              "      <td>3</td>\n",
              "      <td>2019</td>\n",
              "      <td>1</td>\n",
              "      <td>309184.1</td>\n",
              "      <td>5.0</td>\n",
              "      <td>8.38</td>\n",
              "    </tr>\n",
              "    <tr>\n",
              "      <th>3</th>\n",
              "      <td>4</td>\n",
              "      <td>2</td>\n",
              "      <td>sch01110001</td>\n",
              "      <td>11</td>\n",
              "      <td>4</td>\n",
              "      <td>2019</td>\n",
              "      <td>1</td>\n",
              "      <td>309184.1</td>\n",
              "      <td>5.0</td>\n",
              "      <td>8.38</td>\n",
              "    </tr>\n",
              "    <tr>\n",
              "      <th>4</th>\n",
              "      <td>4</td>\n",
              "      <td>2</td>\n",
              "      <td>sch01110001</td>\n",
              "      <td>8</td>\n",
              "      <td>3</td>\n",
              "      <td>2019</td>\n",
              "      <td>1</td>\n",
              "      <td>309184.1</td>\n",
              "      <td>5.0</td>\n",
              "      <td>8.38</td>\n",
              "    </tr>\n",
              "    <tr>\n",
              "      <th>...</th>\n",
              "      <td>...</td>\n",
              "      <td>...</td>\n",
              "      <td>...</td>\n",
              "      <td>...</td>\n",
              "      <td>...</td>\n",
              "      <td>...</td>\n",
              "      <td>...</td>\n",
              "      <td>...</td>\n",
              "      <td>...</td>\n",
              "      <td>...</td>\n",
              "    </tr>\n",
              "    <tr>\n",
              "      <th>5607</th>\n",
              "      <td>4</td>\n",
              "      <td>2</td>\n",
              "      <td>sch01116052</td>\n",
              "      <td>16</td>\n",
              "      <td>5</td>\n",
              "      <td>2019</td>\n",
              "      <td>1</td>\n",
              "      <td>309184.1</td>\n",
              "      <td>5.0</td>\n",
              "      <td>8.38</td>\n",
              "    </tr>\n",
              "    <tr>\n",
              "      <th>5608</th>\n",
              "      <td>4</td>\n",
              "      <td>2</td>\n",
              "      <td>sch01116052</td>\n",
              "      <td>13</td>\n",
              "      <td>4</td>\n",
              "      <td>2019</td>\n",
              "      <td>1</td>\n",
              "      <td>309184.1</td>\n",
              "      <td>5.0</td>\n",
              "      <td>8.38</td>\n",
              "    </tr>\n",
              "    <tr>\n",
              "      <th>5609</th>\n",
              "      <td>4</td>\n",
              "      <td>2</td>\n",
              "      <td>sch01116052</td>\n",
              "      <td>14</td>\n",
              "      <td>4</td>\n",
              "      <td>2019</td>\n",
              "      <td>1</td>\n",
              "      <td>309184.1</td>\n",
              "      <td>5.0</td>\n",
              "      <td>8.38</td>\n",
              "    </tr>\n",
              "    <tr>\n",
              "      <th>5610</th>\n",
              "      <td>4</td>\n",
              "      <td>2</td>\n",
              "      <td>sch01116052</td>\n",
              "      <td>9</td>\n",
              "      <td>3</td>\n",
              "      <td>2019</td>\n",
              "      <td>1</td>\n",
              "      <td>309184.1</td>\n",
              "      <td>5.0</td>\n",
              "      <td>8.38</td>\n",
              "    </tr>\n",
              "    <tr>\n",
              "      <th>5611</th>\n",
              "      <td>4</td>\n",
              "      <td>2</td>\n",
              "      <td>sch01116052</td>\n",
              "      <td>15</td>\n",
              "      <td>5</td>\n",
              "      <td>2019</td>\n",
              "      <td>1</td>\n",
              "      <td>309184.1</td>\n",
              "      <td>5.0</td>\n",
              "      <td>8.38</td>\n",
              "    </tr>\n",
              "  </tbody>\n",
              "</table>\n",
              "<p>5612 rows × 10 columns</p>\n",
              "</div>\n",
              "      <button class=\"colab-df-convert\" onclick=\"convertToInteractive('df-51e9d035-3714-49a8-8cb1-4ec2af0b7294')\"\n",
              "              title=\"Convert this dataframe to an interactive table.\"\n",
              "              style=\"display:none;\">\n",
              "        \n",
              "  <svg xmlns=\"http://www.w3.org/2000/svg\" height=\"24px\"viewBox=\"0 0 24 24\"\n",
              "       width=\"24px\">\n",
              "    <path d=\"M0 0h24v24H0V0z\" fill=\"none\"/>\n",
              "    <path d=\"M18.56 5.44l.94 2.06.94-2.06 2.06-.94-2.06-.94-.94-2.06-.94 2.06-2.06.94zm-11 1L8.5 8.5l.94-2.06 2.06-.94-2.06-.94L8.5 2.5l-.94 2.06-2.06.94zm10 10l.94 2.06.94-2.06 2.06-.94-2.06-.94-.94-2.06-.94 2.06-2.06.94z\"/><path d=\"M17.41 7.96l-1.37-1.37c-.4-.4-.92-.59-1.43-.59-.52 0-1.04.2-1.43.59L10.3 9.45l-7.72 7.72c-.78.78-.78 2.05 0 2.83L4 21.41c.39.39.9.59 1.41.59.51 0 1.02-.2 1.41-.59l7.78-7.78 2.81-2.81c.8-.78.8-2.07 0-2.86zM5.41 20L4 18.59l7.72-7.72 1.47 1.35L5.41 20z\"/>\n",
              "  </svg>\n",
              "      </button>\n",
              "      \n",
              "  <style>\n",
              "    .colab-df-container {\n",
              "      display:flex;\n",
              "      flex-wrap:wrap;\n",
              "      gap: 12px;\n",
              "    }\n",
              "\n",
              "    .colab-df-convert {\n",
              "      background-color: #E8F0FE;\n",
              "      border: none;\n",
              "      border-radius: 50%;\n",
              "      cursor: pointer;\n",
              "      display: none;\n",
              "      fill: #1967D2;\n",
              "      height: 32px;\n",
              "      padding: 0 0 0 0;\n",
              "      width: 32px;\n",
              "    }\n",
              "\n",
              "    .colab-df-convert:hover {\n",
              "      background-color: #E2EBFA;\n",
              "      box-shadow: 0px 1px 2px rgba(60, 64, 67, 0.3), 0px 1px 3px 1px rgba(60, 64, 67, 0.15);\n",
              "      fill: #174EA6;\n",
              "    }\n",
              "\n",
              "    [theme=dark] .colab-df-convert {\n",
              "      background-color: #3B4455;\n",
              "      fill: #D2E3FC;\n",
              "    }\n",
              "\n",
              "    [theme=dark] .colab-df-convert:hover {\n",
              "      background-color: #434B5C;\n",
              "      box-shadow: 0px 1px 3px 1px rgba(0, 0, 0, 0.15);\n",
              "      filter: drop-shadow(0px 1px 2px rgba(0, 0, 0, 0.3));\n",
              "      fill: #FFFFFF;\n",
              "    }\n",
              "  </style>\n",
              "\n",
              "      <script>\n",
              "        const buttonEl =\n",
              "          document.querySelector('#df-51e9d035-3714-49a8-8cb1-4ec2af0b7294 button.colab-df-convert');\n",
              "        buttonEl.style.display =\n",
              "          google.colab.kernel.accessAllowed ? 'block' : 'none';\n",
              "\n",
              "        async function convertToInteractive(key) {\n",
              "          const element = document.querySelector('#df-51e9d035-3714-49a8-8cb1-4ec2af0b7294');\n",
              "          const dataTable =\n",
              "            await google.colab.kernel.invokeFunction('convertToInteractive',\n",
              "                                                     [key], {});\n",
              "          if (!dataTable) return;\n",
              "\n",
              "          const docLinkHtml = 'Like what you see? Visit the ' +\n",
              "            '<a target=\"_blank\" href=https://colab.research.google.com/notebooks/data_table.ipynb>data table notebook</a>'\n",
              "            + ' to learn more about interactive tables.';\n",
              "          element.innerHTML = '';\n",
              "          dataTable['output_type'] = 'display_data';\n",
              "          await google.colab.output.renderOutput(dataTable, element);\n",
              "          const docLink = document.createElement('div');\n",
              "          docLink.innerHTML = docLinkHtml;\n",
              "          element.appendChild(docLink);\n",
              "        }\n",
              "      </script>\n",
              "    </div>\n",
              "  </div>\n",
              "  "
            ]
          },
          "metadata": {},
          "execution_count": 99
        }
      ]
    },
    {
      "cell_type": "code",
      "source": [
        "import statistics\n",
        "data1_new = pd.DataFrame()\n",
        "k=0\n",
        "\n",
        "for i in a:\n",
        "  mask = data1['ЛогинОО'] == i\n",
        "  d = data1[mask]\n",
        "  mean = d.Отметка.mean()\n",
        "\n",
        "  st = {'Класс':4,\n",
        "        'Код_предмета':2,\n",
        "        'ЛогинОО':i,\n",
        "        'Отметка':mean,\n",
        "        'Year':2019,\n",
        "        'region_code':data1.region_code.unique()[0],\n",
        "        'ввп':data1.ввп.unique()[0],\n",
        "        'объекты':data1.объекты.unique()[0]}\n",
        "        #'Транспортная доступность':data1.Транспортная доступность.unique()[0]}\n",
        "  \n",
        "  k+=1\n",
        "  if k==100:\n",
        "    break\n",
        "  print(k/35667*100)\n",
        "  \n",
        "  #print(st)\n",
        "  data1_new = data1_new.append(st, ignore_index=True)\n",
        "  #print(data1_new)"
      ],
      "metadata": {
        "id": "VALFTdHfIOEi"
      },
      "execution_count": null,
      "outputs": []
    },
    {
      "cell_type": "code",
      "source": [
        "data1_new"
      ],
      "metadata": {
        "colab": {
          "base_uri": "https://localhost:8080/",
          "height": 423
        },
        "id": "_hRHR42ZMYXk",
        "outputId": "e82a79b6-835f-451e-f0eb-dd155e93a95f"
      },
      "execution_count": null,
      "outputs": [
        {
          "output_type": "execute_result",
          "data": {
            "text/plain": [
              "    Класс  Код_предмета      ЛогинОО   Отметка    Year  region_code       ввп  \\\n",
              "0     4.0           2.0  sch01110001  3.971014  2019.0          1.0  309184.1   \n",
              "1     4.0           2.0  sch01110003  4.057692  2019.0          1.0  309184.1   \n",
              "2     4.0           2.0  sch01110004  4.220588  2019.0          1.0  309184.1   \n",
              "3     4.0           2.0  sch01110005  3.434783  2019.0          1.0  309184.1   \n",
              "4     4.0           2.0  sch01110006  4.230769  2019.0          1.0  309184.1   \n",
              "..    ...           ...          ...       ...     ...          ...       ...   \n",
              "94    4.0           2.0  sch01113017  4.000000  2019.0          1.0  309184.1   \n",
              "95    4.0           2.0  sch01113018  4.200000  2019.0          1.0  309184.1   \n",
              "96    4.0           2.0  sch01113019  3.750000  2019.0          1.0  309184.1   \n",
              "97    4.0           2.0  sch01113020  4.250000  2019.0          1.0  309184.1   \n",
              "98    4.0           2.0  sch01113023  3.666667  2019.0          1.0  309184.1   \n",
              "\n",
              "    объекты  \n",
              "0       5.0  \n",
              "1       5.0  \n",
              "2       5.0  \n",
              "3       5.0  \n",
              "4       5.0  \n",
              "..      ...  \n",
              "94      5.0  \n",
              "95      5.0  \n",
              "96      5.0  \n",
              "97      5.0  \n",
              "98      5.0  \n",
              "\n",
              "[99 rows x 8 columns]"
            ],
            "text/html": [
              "\n",
              "  <div id=\"df-3c6a40e9-ce5a-4cfa-8c3b-ec0d3e0bea6f\">\n",
              "    <div class=\"colab-df-container\">\n",
              "      <div>\n",
              "<style scoped>\n",
              "    .dataframe tbody tr th:only-of-type {\n",
              "        vertical-align: middle;\n",
              "    }\n",
              "\n",
              "    .dataframe tbody tr th {\n",
              "        vertical-align: top;\n",
              "    }\n",
              "\n",
              "    .dataframe thead th {\n",
              "        text-align: right;\n",
              "    }\n",
              "</style>\n",
              "<table border=\"1\" class=\"dataframe\">\n",
              "  <thead>\n",
              "    <tr style=\"text-align: right;\">\n",
              "      <th></th>\n",
              "      <th>Класс</th>\n",
              "      <th>Код_предмета</th>\n",
              "      <th>ЛогинОО</th>\n",
              "      <th>Отметка</th>\n",
              "      <th>Year</th>\n",
              "      <th>region_code</th>\n",
              "      <th>ввп</th>\n",
              "      <th>объекты</th>\n",
              "    </tr>\n",
              "  </thead>\n",
              "  <tbody>\n",
              "    <tr>\n",
              "      <th>0</th>\n",
              "      <td>4.0</td>\n",
              "      <td>2.0</td>\n",
              "      <td>sch01110001</td>\n",
              "      <td>3.971014</td>\n",
              "      <td>2019.0</td>\n",
              "      <td>1.0</td>\n",
              "      <td>309184.1</td>\n",
              "      <td>5.0</td>\n",
              "    </tr>\n",
              "    <tr>\n",
              "      <th>1</th>\n",
              "      <td>4.0</td>\n",
              "      <td>2.0</td>\n",
              "      <td>sch01110003</td>\n",
              "      <td>4.057692</td>\n",
              "      <td>2019.0</td>\n",
              "      <td>1.0</td>\n",
              "      <td>309184.1</td>\n",
              "      <td>5.0</td>\n",
              "    </tr>\n",
              "    <tr>\n",
              "      <th>2</th>\n",
              "      <td>4.0</td>\n",
              "      <td>2.0</td>\n",
              "      <td>sch01110004</td>\n",
              "      <td>4.220588</td>\n",
              "      <td>2019.0</td>\n",
              "      <td>1.0</td>\n",
              "      <td>309184.1</td>\n",
              "      <td>5.0</td>\n",
              "    </tr>\n",
              "    <tr>\n",
              "      <th>3</th>\n",
              "      <td>4.0</td>\n",
              "      <td>2.0</td>\n",
              "      <td>sch01110005</td>\n",
              "      <td>3.434783</td>\n",
              "      <td>2019.0</td>\n",
              "      <td>1.0</td>\n",
              "      <td>309184.1</td>\n",
              "      <td>5.0</td>\n",
              "    </tr>\n",
              "    <tr>\n",
              "      <th>4</th>\n",
              "      <td>4.0</td>\n",
              "      <td>2.0</td>\n",
              "      <td>sch01110006</td>\n",
              "      <td>4.230769</td>\n",
              "      <td>2019.0</td>\n",
              "      <td>1.0</td>\n",
              "      <td>309184.1</td>\n",
              "      <td>5.0</td>\n",
              "    </tr>\n",
              "    <tr>\n",
              "      <th>...</th>\n",
              "      <td>...</td>\n",
              "      <td>...</td>\n",
              "      <td>...</td>\n",
              "      <td>...</td>\n",
              "      <td>...</td>\n",
              "      <td>...</td>\n",
              "      <td>...</td>\n",
              "      <td>...</td>\n",
              "    </tr>\n",
              "    <tr>\n",
              "      <th>94</th>\n",
              "      <td>4.0</td>\n",
              "      <td>2.0</td>\n",
              "      <td>sch01113017</td>\n",
              "      <td>4.000000</td>\n",
              "      <td>2019.0</td>\n",
              "      <td>1.0</td>\n",
              "      <td>309184.1</td>\n",
              "      <td>5.0</td>\n",
              "    </tr>\n",
              "    <tr>\n",
              "      <th>95</th>\n",
              "      <td>4.0</td>\n",
              "      <td>2.0</td>\n",
              "      <td>sch01113018</td>\n",
              "      <td>4.200000</td>\n",
              "      <td>2019.0</td>\n",
              "      <td>1.0</td>\n",
              "      <td>309184.1</td>\n",
              "      <td>5.0</td>\n",
              "    </tr>\n",
              "    <tr>\n",
              "      <th>96</th>\n",
              "      <td>4.0</td>\n",
              "      <td>2.0</td>\n",
              "      <td>sch01113019</td>\n",
              "      <td>3.750000</td>\n",
              "      <td>2019.0</td>\n",
              "      <td>1.0</td>\n",
              "      <td>309184.1</td>\n",
              "      <td>5.0</td>\n",
              "    </tr>\n",
              "    <tr>\n",
              "      <th>97</th>\n",
              "      <td>4.0</td>\n",
              "      <td>2.0</td>\n",
              "      <td>sch01113020</td>\n",
              "      <td>4.250000</td>\n",
              "      <td>2019.0</td>\n",
              "      <td>1.0</td>\n",
              "      <td>309184.1</td>\n",
              "      <td>5.0</td>\n",
              "    </tr>\n",
              "    <tr>\n",
              "      <th>98</th>\n",
              "      <td>4.0</td>\n",
              "      <td>2.0</td>\n",
              "      <td>sch01113023</td>\n",
              "      <td>3.666667</td>\n",
              "      <td>2019.0</td>\n",
              "      <td>1.0</td>\n",
              "      <td>309184.1</td>\n",
              "      <td>5.0</td>\n",
              "    </tr>\n",
              "  </tbody>\n",
              "</table>\n",
              "<p>99 rows × 8 columns</p>\n",
              "</div>\n",
              "      <button class=\"colab-df-convert\" onclick=\"convertToInteractive('df-3c6a40e9-ce5a-4cfa-8c3b-ec0d3e0bea6f')\"\n",
              "              title=\"Convert this dataframe to an interactive table.\"\n",
              "              style=\"display:none;\">\n",
              "        \n",
              "  <svg xmlns=\"http://www.w3.org/2000/svg\" height=\"24px\"viewBox=\"0 0 24 24\"\n",
              "       width=\"24px\">\n",
              "    <path d=\"M0 0h24v24H0V0z\" fill=\"none\"/>\n",
              "    <path d=\"M18.56 5.44l.94 2.06.94-2.06 2.06-.94-2.06-.94-.94-2.06-.94 2.06-2.06.94zm-11 1L8.5 8.5l.94-2.06 2.06-.94-2.06-.94L8.5 2.5l-.94 2.06-2.06.94zm10 10l.94 2.06.94-2.06 2.06-.94-2.06-.94-.94-2.06-.94 2.06-2.06.94z\"/><path d=\"M17.41 7.96l-1.37-1.37c-.4-.4-.92-.59-1.43-.59-.52 0-1.04.2-1.43.59L10.3 9.45l-7.72 7.72c-.78.78-.78 2.05 0 2.83L4 21.41c.39.39.9.59 1.41.59.51 0 1.02-.2 1.41-.59l7.78-7.78 2.81-2.81c.8-.78.8-2.07 0-2.86zM5.41 20L4 18.59l7.72-7.72 1.47 1.35L5.41 20z\"/>\n",
              "  </svg>\n",
              "      </button>\n",
              "      \n",
              "  <style>\n",
              "    .colab-df-container {\n",
              "      display:flex;\n",
              "      flex-wrap:wrap;\n",
              "      gap: 12px;\n",
              "    }\n",
              "\n",
              "    .colab-df-convert {\n",
              "      background-color: #E8F0FE;\n",
              "      border: none;\n",
              "      border-radius: 50%;\n",
              "      cursor: pointer;\n",
              "      display: none;\n",
              "      fill: #1967D2;\n",
              "      height: 32px;\n",
              "      padding: 0 0 0 0;\n",
              "      width: 32px;\n",
              "    }\n",
              "\n",
              "    .colab-df-convert:hover {\n",
              "      background-color: #E2EBFA;\n",
              "      box-shadow: 0px 1px 2px rgba(60, 64, 67, 0.3), 0px 1px 3px 1px rgba(60, 64, 67, 0.15);\n",
              "      fill: #174EA6;\n",
              "    }\n",
              "\n",
              "    [theme=dark] .colab-df-convert {\n",
              "      background-color: #3B4455;\n",
              "      fill: #D2E3FC;\n",
              "    }\n",
              "\n",
              "    [theme=dark] .colab-df-convert:hover {\n",
              "      background-color: #434B5C;\n",
              "      box-shadow: 0px 1px 3px 1px rgba(0, 0, 0, 0.15);\n",
              "      filter: drop-shadow(0px 1px 2px rgba(0, 0, 0, 0.3));\n",
              "      fill: #FFFFFF;\n",
              "    }\n",
              "  </style>\n",
              "\n",
              "      <script>\n",
              "        const buttonEl =\n",
              "          document.querySelector('#df-3c6a40e9-ce5a-4cfa-8c3b-ec0d3e0bea6f button.colab-df-convert');\n",
              "        buttonEl.style.display =\n",
              "          google.colab.kernel.accessAllowed ? 'block' : 'none';\n",
              "\n",
              "        async function convertToInteractive(key) {\n",
              "          const element = document.querySelector('#df-3c6a40e9-ce5a-4cfa-8c3b-ec0d3e0bea6f');\n",
              "          const dataTable =\n",
              "            await google.colab.kernel.invokeFunction('convertToInteractive',\n",
              "                                                     [key], {});\n",
              "          if (!dataTable) return;\n",
              "\n",
              "          const docLinkHtml = 'Like what you see? Visit the ' +\n",
              "            '<a target=\"_blank\" href=https://colab.research.google.com/notebooks/data_table.ipynb>data table notebook</a>'\n",
              "            + ' to learn more about interactive tables.';\n",
              "          element.innerHTML = '';\n",
              "          dataTable['output_type'] = 'display_data';\n",
              "          await google.colab.output.renderOutput(dataTable, element);\n",
              "          const docLink = document.createElement('div');\n",
              "          docLink.innerHTML = docLinkHtml;\n",
              "          element.appendChild(docLink);\n",
              "        }\n",
              "      </script>\n",
              "    </div>\n",
              "  </div>\n",
              "  "
            ]
          },
          "metadata": {},
          "execution_count": 13
        }
      ]
    },
    {
      "cell_type": "code",
      "source": [
        "mask = data1['Year'] == 2019\n",
        "data_2019, data_2020 = data[mask], data[~mask]"
      ],
      "metadata": {
        "id": "oHxMYyu1IJ3C"
      },
      "execution_count": null,
      "outputs": []
    },
    {
      "cell_type": "code",
      "source": [
        "\n",
        "\n",
        "city_omsk = {'Город':'Омск','Дата основания':'1716','Площадь':'573','Население':'1,2'}\n",
        "\n",
        "city_new_df = city_df.append(city_omsk, ignore_index=True)\n",
        "city_new_df"
      ],
      "metadata": {
        "id": "PNyDESRBH3Pm"
      },
      "execution_count": null,
      "outputs": []
    },
    {
      "cell_type": "code",
      "source": [
        ""
      ],
      "metadata": {
        "id": "LyhBsMT-H3SC"
      },
      "execution_count": null,
      "outputs": []
    },
    {
      "cell_type": "code",
      "source": [
        ""
      ],
      "metadata": {
        "id": "r6CDt81CH3Ub"
      },
      "execution_count": null,
      "outputs": []
    },
    {
      "cell_type": "code",
      "source": [
        "data1['Код_ученика'].value_counts()"
      ],
      "metadata": {
        "id": "igeXOQt5Msmk"
      },
      "execution_count": null,
      "outputs": []
    },
    {
      "cell_type": "markdown",
      "metadata": {
        "id": "WaEl06A1dkrb"
      },
      "source": [
        "**Обработка**"
      ]
    },
    {
      "cell_type": "code",
      "execution_count": null,
      "metadata": {
        "id": "D9FnFkoIQLwe",
        "colab": {
          "base_uri": "https://localhost:8080/"
        },
        "outputId": "0fe38ad4-203b-49a2-fd6c-258cdcda6496"
      },
      "outputs": [
        {
          "output_type": "stream",
          "name": "stdout",
          "text": [
            "Класс                         int64\n",
            "Код_предмета                  int64\n",
            "ЛогинОО                      object\n",
            "Балл                          int64\n",
            "Отметка                       int64\n",
            "Year                          int64\n",
            "region_code                   int64\n",
            "ввп                         float64\n",
            "объекты                     float64\n",
            "Транспортная доступность    float64\n",
            "dtype: object\n"
          ]
        }
      ],
      "source": [
        "# Проверка типов\n",
        "print(data1.dtypes)\n"
      ]
    },
    {
      "cell_type": "code",
      "execution_count": null,
      "metadata": {
        "id": "krh6yd7eUGiu"
      },
      "outputs": [],
      "source": [
        "# Убираем ненужные признаки\n",
        "data1 = data1.drop(['названиерегиона','Unnamed: 0', 'Unnamed: 0.1', 'Unnamed: 0.1.1', 'Код_ученика'], axis=1)\n",
        "data2 = data2.drop(['названиерегиона','Unnamed: 0', 'Unnamed: 0.1', 'Unnamed: 0.1.1', 'Код_ученика'], axis=1)"
      ]
    },
    {
      "cell_type": "code",
      "source": [
        "# Кодирование\n",
        "encoder = LabelEncoder()\n",
        "data1['ЛогинОО'] = encoder.fit_transform(data1['ЛогинОО'])\n",
        "data2['ЛогинОО'] = encoder.fit_transform(data2['ЛогинОО'])\n",
        "\n",
        "\n",
        "print(data1.dtypes)"
      ],
      "metadata": {
        "id": "Y4fByU6ocg8k",
        "colab": {
          "base_uri": "https://localhost:8080/"
        },
        "outputId": "3c90ce38-f67a-4be1-d6c1-febfb1d816a4"
      },
      "execution_count": null,
      "outputs": [
        {
          "output_type": "stream",
          "name": "stdout",
          "text": [
            "Класс                         int64\n",
            "Код_предмета                  int64\n",
            "ЛогинОО                       int64\n",
            "Балл                          int64\n",
            "Отметка                       int64\n",
            "Year                          int64\n",
            "region_code                   int64\n",
            "ввп                         float64\n",
            "объекты                     float64\n",
            "Транспортная доступность    float64\n",
            "dtype: object\n"
          ]
        }
      ]
    },
    {
      "cell_type": "markdown",
      "metadata": {
        "id": "UpsYatnCYxBU"
      },
      "source": [
        "**Разделение наборов**"
      ]
    },
    {
      "cell_type": "code",
      "execution_count": null,
      "metadata": {
        "id": "BhP-o0jnYDOT"
      },
      "outputs": [],
      "source": [
        "# Разделение параметров и меток\n",
        "x_train = data1.drop(['Балл', 'Отметка'], axis=1)\n",
        "y_train = data1['Отметка']\n",
        "\n",
        "x_test = data2.drop(['Балл', 'Отметка'], axis=1)\n",
        "y_test = data2['Отметка']\n",
        "\n",
        "\n",
        "# train-test (85% - обучение, 15% - валидация)\n",
        "#x_train_1, x_test_1, y_train_1, y_test_1 = train_test_split(features_1, labels_1, test_size=0.00000000001)\n",
        "#x_train_2, x_test_2, y_train_2, y_test_2 = train_test_split(features, labels_2, train_size=0.85)"
      ]
    },
    {
      "cell_type": "code",
      "source": [
        ""
      ],
      "metadata": {
        "id": "-vR3Jtm9_ur7"
      },
      "execution_count": null,
      "outputs": []
    },
    {
      "cell_type": "code",
      "execution_count": null,
      "metadata": {
        "id": "fFq94C-yYvgj"
      },
      "outputs": [],
      "source": [
        "# Преобразование в DMatrix\n",
        "d_train = xgb.DMatrix(x_train, y_train)\n",
        "d_test = xgb.DMatrix(x_test, y_test)"
      ]
    },
    {
      "cell_type": "markdown",
      "metadata": {
        "id": "anY8vPref2ey"
      },
      "source": [
        "**Настройка параметров**\n",
        "\n",
        "*booster* указывает тип бустера, который будет использовать XGBoost. По умолчанию gbtree.\n",
        "\n",
        "*max_depth* - максимальная глубина дерева. Очень высокое значение может привести к перегрузке алгоритма.\n",
        "\n",
        "*learning_rate* - скорость обучения алгоритма, которая установлена на 0.1. Указание, как быстро наш алгоритм будет сходиться к оптимальному решению.\n",
        "\n",
        "*sample_type* - тип выборки, используемый для отброшенных деревьев. Может быть либо *uniform*, либо *weighted*.\n",
        "\n",
        "*normalize_type* - тип алгоритма нормализации, который будет использоваться во время обучения.\n",
        "\n",
        "*objective* - цель обучения для алгоритма. *binary:hinge* выдает результаты классификации (либо 0, либо 1).\n",
        "\n",
        "*rate_drop* - коэффициент отсева деревьев. Диапазон от 0.0 до 1.0. Использовали 0.1, значит 10% деревьев будут отброшены.\n",
        "\n",
        "*n_estimators* -  количество усиленных деревьев для использования во время обучения."
      ]
    },
    {
      "cell_type": "code",
      "execution_count": null,
      "metadata": {
        "id": "KRLd_Boba7bS"
      },
      "outputs": [],
      "source": [
        "params_0 = {\n",
        "    #'tree_method': 'approx', # 'auto' не подходит, слижком большой датасет\n",
        "    'booster': 'gbtree',\n",
        "    #'max_depth': 5, \n",
        "    #'learning_rate': 1,\n",
        "    #'sample_type': 'uniform',\n",
        "    #'normalize_type': 'tree',\n",
        "    #'objective': 'reg:squarederror', # регрессия с квадратом потерь\n",
        "    #'rate_drop': 0.1,\n",
        "    #'n_estimators': 500\n",
        "}"
      ]
    },
    {
      "cell_type": "code",
      "execution_count": null,
      "metadata": {
        "id": "m0ddaUgEa7eL"
      },
      "outputs": [],
      "source": [
        "xgb_clf = xgb.train(params_0, d_train)"
      ]
    },
    {
      "cell_type": "markdown",
      "metadata": {
        "id": "AlWwVvSLkY3_"
      },
      "source": [
        "**Визуализация важности параметров**"
      ]
    },
    {
      "cell_type": "code",
      "execution_count": null,
      "metadata": {
        "id": "B47wtl7CiV8r",
        "colab": {
          "base_uri": "https://localhost:8080/",
          "height": 316
        },
        "outputId": "604e71ac-32b8-4a54-a905-22920a26a6d8"
      },
      "outputs": [
        {
          "output_type": "display_data",
          "data": {
            "text/plain": [
              "<Figure size 1152x864 with 0 Axes>"
            ]
          },
          "metadata": {}
        },
        {
          "output_type": "display_data",
          "data": {
            "text/plain": [
              "<Figure size 432x288 with 1 Axes>"
            ],
            "image/png": "[encoded data removed]"
          },
          "metadata": {
            "needs_background": "light"
          }
        }
      ],
      "source": [
        "plt.figure(figsize=(16, 12))\n",
        "xgb.plot_importance(xgb_clf)\n",
        "plt.show()"
      ]
    },
    {
      "cell_type": "code",
      "execution_count": null,
      "metadata": {
        "id": "lyeEn8_xYvoJ"
      },
      "outputs": [],
      "source": [
        "# Прогноз\n",
        "preds = xgb_clf.predict(d_test)"
      ]
    },
    {
      "cell_type": "code",
      "source": [
        "y_test"
      ],
      "metadata": {
        "colab": {
          "base_uri": "https://localhost:8080/"
        },
        "id": "dt0YErI3Apdq",
        "outputId": "50872362-1d69-44a4-e90d-4c2f43fc2a5a"
      },
      "execution_count": null,
      "outputs": [
        {
          "output_type": "execute_result",
          "data": {
            "text/plain": [
              "0          3\n",
              "1          5\n",
              "2          3\n",
              "3          5\n",
              "4          4\n",
              "          ..\n",
              "1265657    5\n",
              "1265658    4\n",
              "1265659    4\n",
              "1265660    5\n",
              "1265661    5\n",
              "Name: Отметка, Length: 1265662, dtype: int64"
            ]
          },
          "metadata": {},
          "execution_count": 53
        }
      ]
    },
    {
      "cell_type": "code",
      "source": [
        "print(preds)"
      ],
      "metadata": {
        "colab": {
          "base_uri": "https://localhost:8080/"
        },
        "id": "nArtgemOAoBM",
        "outputId": "15174e9a-e7fa-48a9-d9d8-ac85da8a2ce1"
      },
      "execution_count": null,
      "outputs": [
        {
          "output_type": "stream",
          "name": "stdout",
          "text": [
            "[3.9695802 3.9695802 3.9695802 ... 4.017791  4.017791  4.017791 ]\n"
          ]
        }
      ]
    },
    {
      "cell_type": "code",
      "source": [
        "preds_round = preds.round().astype(int)"
      ],
      "metadata": {
        "id": "1nw670-sn4wO"
      },
      "execution_count": null,
      "outputs": []
    },
    {
      "cell_type": "code",
      "source": [
        "# Процент ошибок в прогнозировании отметок\n",
        "print(round((y_test != preds_round).sum() / y_test.size * 100), '%')"
      ],
      "metadata": {
        "colab": {
          "base_uri": "https://localhost:8080/"
        },
        "id": "S7TZYYaMj4HR",
        "outputId": "f283c31f-1d61-4b7c-e381-8f2c46e9b1fe"
      },
      "execution_count": null,
      "outputs": [
        {
          "output_type": "stream",
          "name": "stdout",
          "text": [
            "56 %\n"
          ]
        }
      ]
    },
    {
      "cell_type": "code",
      "source": [
        "# Процент ошибок в прогнозировании баллов\n",
        "print(round((y_test != preds_round).sum() / y_test.size * 100), '%')"
      ],
      "metadata": {
        "id": "4xbZlLh-pt-g"
      },
      "execution_count": null,
      "outputs": []
    },
    {
      "cell_type": "code",
      "source": [
        "print(accuracy_score(y_test_1, preds_1_round))\n",
        "print(accuracy_score(y_test_2, preds_2_round))"
      ],
      "metadata": {
        "id": "FmTsMmQiqWGc"
      },
      "execution_count": null,
      "outputs": []
    },
    {
      "cell_type": "code",
      "source": [
        "print(balanced_accuracy_score(y_test_1, preds_1_round))\n",
        "print(balanced_accuracy_score(y_test_2, preds_2_round))\n"
      ],
      "metadata": {
        "id": "rY-hJezn0FHr"
      },
      "execution_count": null,
      "outputs": []
    },
    {
      "cell_type": "code",
      "source": [
        "print(confusion_matrix(y_test_1, preds_1_round))\n",
        "print(confusion_matrix(y_test_2, preds_2_round))"
      ],
      "metadata": {
        "id": "LnGwXcbF0QNM"
      },
      "execution_count": null,
      "outputs": []
    },
    {
      "cell_type": "code",
      "source": [
        "print(classification_report(y_test_1, preds_1_round))\n",
        "print(classification_report(y_test_2, preds_2_round))"
      ],
      "metadata": {
        "id": "EUnLQNJ80b6K"
      },
      "execution_count": null,
      "outputs": []
    },
    {
      "cell_type": "code",
      "source": [
        "print(multilabel_confusion_matrix(y_test_1, preds_1_round))\n",
        "print(multilabel_confusion_matrix(y_test_2, preds_2_round))"
      ],
      "metadata": {
        "id": "VNAmtEy40b8N"
      },
      "execution_count": null,
      "outputs": []
    },
    {
      "cell_type": "code",
      "source": [
        ""
      ],
      "metadata": {
        "id": "dFIHpCQXbiXv"
      },
      "execution_count": null,
      "outputs": []
    },
    {
      "cell_type": "code",
      "source": [
        ""
      ],
      "metadata": {
        "id": "sg9myo2acxun"
      },
      "execution_count": null,
      "outputs": []
    },
    {
      "cell_type": "code",
      "source": [
        ""
      ],
      "metadata": {
        "id": "pJPEBdxtcxxP"
      },
      "execution_count": null,
      "outputs": []
    },
    {
      "cell_type": "code",
      "source": [
        ""
      ],
      "metadata": {
        "id": "cwPu0ttUcx0F"
      },
      "execution_count": null,
      "outputs": []
    },
    {
      "cell_type": "code",
      "source": [
        "#Проверка корреляции\n",
        "gbm\n",
        "col_names = x_train_1.columns\n",
        "for col, val in sorted(zip(col_names, gbm.feature_importances_), key=lambda x:x[1], reverse=True,)[:10]:\n",
        "    print(f\"{col:10}{val:10.3f}\")"
      ],
      "metadata": {
        "id": "p5qUMHR51Wjw"
      },
      "execution_count": null,
      "outputs": []
    },
    {
      "cell_type": "code",
      "source": [
        "# Оптимизация\n",
        "import xgboost as xgb\n",
        "model = xgb.XGBClassifier()\n",
        "#gbm = model.fit(x_train_1, y_train_1)\n",
        "#gbm.score(x_test_1, y_test_1)"
      ],
      "metadata": {
        "id": "nLBN4uOa1WmV"
      },
      "execution_count": null,
      "outputs": []
    },
    {
      "cell_type": "code",
      "source": [
        "from sklearn.model_selection import cross_validate, GridSearchCV\n",
        "\n",
        "params = {'n_estimators':[67, 70, 100, 120, 200, 315],\n",
        "          'reg_lambda':[2, 1],\n",
        "          'gamma':[0,0.3,0.2,0.1],\n",
        "          'max_depth':list(range(3, 6)), \n",
        "          'learning_rate':[0.001,0.002,0.003,0.004,0.005,0.006,0.007,0.008,0.05,0.09],\n",
        "          'min_child_weight ':[1, 3, 5, 7, 9],    \n",
        "}\n",
        "clf=GridSearchCV(model, params, cv=10, n_jobs=-1, verbose=1)\n",
        "clf.fit(x_train_1, y_train_1)"
      ],
      "metadata": {
        "colab": {
          "base_uri": "https://localhost:8080/"
        },
        "id": "azuvl0lL1Wo2",
        "outputId": "127e3c62-db34-47a0-9171-ad942cf070f9"
      },
      "execution_count": null,
      "outputs": [
        {
          "output_type": "stream",
          "name": "stdout",
          "text": [
            "Fitting 10 folds for each of 7200 candidates, totalling 72000 fits\n"
          ]
        }
      ]
    },
    {
      "cell_type": "code",
      "source": [
        "from sklearn.model_selection import RandomizedSearchCV\n",
        "\n",
        "params1 = {'n_estimators': [100, 200, 500, 800, 1000, 1200],\n",
        "          'max_depth': [3,5,7],\n",
        "          'objective': ['binary:logistic'],\n",
        "          'min_child_weight': [1, 5, 10],\n",
        "          'gamma': [0.5, 1, 1.5, 2, 5],\n",
        "          }\n",
        "\n",
        "rfc_cv = RandomizedSearchCV(model, params, cv = 10, n_jobs=-1, verbose=2).fit(x_train_1, y_train_1)"
      ],
      "metadata": {
        "id": "gZtw6Ea-cAK8"
      },
      "execution_count": null,
      "outputs": []
    },
    {
      "cell_type": "markdown",
      "source": [
        "Итоговые параметры для Xgboost выглядят так:\n",
        "\n",
        "\n",
        "```\n",
        "model = xgb.XGBClassifier(base_score=0.5, booster='gbtree', colsample_bylevel=1,\n",
        "              colsample_bynode=1, colsample_bytree=1, gamma=0.2, gpu_id=-1,\n",
        "              importance_type='gain', interaction_constraints='',\n",
        "              learning_rate=0.05, max_delta_step=0, max_depth=3,\n",
        "              min_child_weight = 1,\n",
        "              monotone_constraints='()', n_estimators=305, n_jobs=0,\n",
        "              num_parallel_tree=1, random_state=0, reg_alpha=0, reg_lambda=2,\n",
        "              scale_pos_weight=1, subsample=1, tree_method='exact',\n",
        "              validate_parameters=1, verbosity=None)\n",
        "gbm = model.fit(X_train, y_train)\n",
        "gbm.score(X_test, y_test)\n",
        "```"
      ],
      "metadata": {
        "id": "tYLTTdofcI6e"
      }
    },
    {
      "cell_type": "markdown",
      "source": [
        "Теперь мы можем сделать прогноз, применив обученную модель на тестовом и тренировочных наборах.\n",
        "\n",
        "```\n",
        "y_pred=gbm.predict(X_train)\n",
        "t_pred=gbm.predict(X_test)\n",
        "print(accuracy_score(y_pred, y_train))\n",
        "print(accuracy_score(t_pred, y_test))\n",
        "print(gbm.feature_importances_)\n",
        "```\n",
        "\n",
        "Формируем дополнительные поля для итоговой выгрузки:\n",
        "\n",
        "```\n",
        "xgb_predictions=xgb_model.predict(X)\n",
        "xgb_probability=xgb_model.predict_proba(X)\n",
        "xgb_probability=[max(row) for row in xgb_probability]\n",
        "\n",
        "stoks2['ML П'] = pd.Series(xgb_predictions)\n",
        "stoks2['ML В'] = pd.Series(xgb_probability)\n",
        "```\n",
        "\n",
        "Выгрузка результата в Excel:\n",
        "\n",
        "\n",
        "```\n",
        "stoks2.to_excel(\"xgboost.xlsx\")\n",
        "```"
      ],
      "metadata": {
        "id": "m2tuQXAmcUKD"
      }
    },
    {
      "cell_type": "code",
      "source": [
        ""
      ],
      "metadata": {
        "id": "Ux_8koPt1WrG"
      },
      "execution_count": null,
      "outputs": []
    },
    {
      "cell_type": "code",
      "source": [
        ""
      ],
      "metadata": {
        "id": "eOq8eU8W0b-s"
      },
      "execution_count": null,
      "outputs": []
    },
    {
      "cell_type": "code",
      "source": [
        "# Оценка точности\n",
        "print(np.round(mean_squared_error(y_val_1, preds_1_round)))\n",
        "print(np.round(mean_squared_error(y_val_2, preds_2_round)))"
      ],
      "metadata": {
        "id": "AfcFc4ZYf6ya"
      },
      "execution_count": null,
      "outputs": []
    },
    {
      "cell_type": "code",
      "source": [
        "# Оценка точности\n",
        "print(np.round(explained_variance_score(y_val_1, preds_1_round)))\n",
        "print(np.round(explained_variance_score(y_val_2, preds_2_round)))"
      ],
      "metadata": {
        "id": "DOqVoAw7_CtW",
        "colab": {
          "base_uri": "https://localhost:8080/"
        },
        "outputId": "60ce39d0-5cba-41c4-e4ef-d0060ee053ae"
      },
      "execution_count": null,
      "outputs": [
        {
          "output_type": "stream",
          "name": "stdout",
          "text": [
            "0.0\n",
            "0.0\n"
          ]
        }
      ]
    },
    {
      "cell_type": "markdown",
      "metadata": {
        "id": "lCxWFr-IifPR"
      },
      "source": [
        "**Кросс-валидация k-fold**"
      ]
    },
    {
      "cell_type": "code",
      "execution_count": null,
      "metadata": {
        "id": "OIUS-eAgiVrb"
      },
      "outputs": [],
      "source": [
        "# DMatrix, состоящая из всех обучающих данных\n",
        "dmatrix_data_1 = xgb.DMatrix(features, labels_1)\n",
        "dmatrix_data_2 = xgb.DMatrix(features, labels_2)"
      ]
    },
    {
      "cell_type": "code",
      "execution_count": null,
      "metadata": {
        "id": "RNPQOuIpiV2h"
      },
      "outputs": [],
      "source": [
        "# Параметры\n",
        "params = {\n",
        "    'objective': 'reg:squarederror', # регрессия с квадратом потерь\n",
        "    'colsample_bytree': 0.3,\n",
        "    'learning_rate': 0.1,\n",
        "    'max_depth': 5,\n",
        "}"
      ]
    },
    {
      "cell_type": "markdown",
      "metadata": {
        "id": "cLtSAfiFjjvS"
      },
      "source": [
        "Параметры xgb.cv():\n",
        "\n",
        "*num_boost_round* - количество итераций бустинга, для которых выполняется перекрестная проверка.\n",
        "\n",
        "*early_stopping_rounds* - если метрика валидации не улучшится за указанные раунды (в нашем случае 10), то кросс-валидация прекратится.\n",
        "\n",
        "*metrics* - метрика, по которой оценивается перекрестная проверка. *error* метрика обычно используется для двоичной классификации.\n",
        "\n",
        "*as_pandas* - результат в виде фрейма данных pandas."
      ]
    },
    {
      "cell_type": "code",
      "execution_count": null,
      "metadata": {
        "id": "ozYHkBebi-7F",
        "colab": {
          "base_uri": "https://localhost:8080/"
        },
        "outputId": "bb12b1f2-ceef-4c69-bc76-3859bcb9c050"
      },
      "outputs": [
        {
          "output_type": "stream",
          "name": "stdout",
          "text": [
            "[13:37:05] WARNING: /workspace/src/learner.cc:686: Tree method is automatically selected to be 'approx' for faster speed. To use old behavior (exact greedy algorithm on single machine), set tree_method to 'exact'.\n",
            "[13:37:18] WARNING: /workspace/src/learner.cc:686: Tree method is automatically selected to be 'approx' for faster speed. To use old behavior (exact greedy algorithm on single machine), set tree_method to 'exact'.\n"
          ]
        }
      ],
      "source": [
        "# Кросс-валидация\n",
        "cross_val_1 = xgb.cv(\n",
        "    params=params,\n",
        "    dtrain=dmatrix_data_1, \n",
        "    nfold=3,\n",
        "    num_boost_round=50,\n",
        "    early_stopping_rounds=10,\n",
        "    metrics='error',\n",
        "    as_pandas=True,\n",
        "    seed=42)\n",
        "cross_val_2 = xgb.cv(\n",
        "    params=params,\n",
        "    dtrain=dmatrix_data_2, \n",
        "    nfold=3,\n",
        "    num_boost_round=50,\n",
        "    early_stopping_rounds=10,\n",
        "    metrics='error',\n",
        "    as_pandas=True,\n",
        "    seed=42)\n",
        "\n",
        "print(cross_val_1.head())\n",
        "print(cross_val_2.head())"
      ]
    },
    {
      "cell_type": "code",
      "execution_count": null,
      "metadata": {
        "id": "2unX64WrkcuF"
      },
      "outputs": [],
      "source": [
        ""
      ]
    }
  ],
  "metadata": {
    "colab": {
      "name": "Diploma",
      "provenance": [],
      "authorship_tag": "ABX9TyM3kbrZqVzXLEcTJszaqkDo",
      "include_colab_link": true
    },
    "kernelspec": {
      "display_name": "Python 3",
      "name": "python3"
    },
    "language_info": {
      "name": "python"
    }
  },
  "nbformat": 4,
  "nbformat_minor": 0
}