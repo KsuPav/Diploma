{
  "cells": [
    {
      "cell_type": "markdown",
      "metadata": {
        "id": "view-in-github",
        "colab_type": "text"
      },
      "source": [
        "<a href=\"https://colab.research.google.com/github/KsuPav/diploma/blob/main/%D0%A7%D0%B8%D1%81%D1%82%D0%BE%D0%B2%D0%B8%D0%BA.ipynb\" target=\"_parent\"><img src=\"https://colab.research.google.com/assets/colab-badge.svg\" alt=\"Open In Colab\"/></a>"
      ]
    },
    {
      "cell_type": "code",
      "execution_count": null,
      "metadata": {
        "id": "T6JCSkgy8UHD"
      },
      "outputs": [],
      "source": [
        "# Импортируем необходимые библиотеки\n",
        "import numpy as np\n",
        "import pandas as pd\n",
        "import matplotlib\n",
        "import matplotlib.pyplot as plt\n",
        "matplotlib.style.use('ggplot')\n",
        "%matplotlib inline\n",
        "\n",
        "import xgboost as xgb\n",
        "import sklearn\n",
        "from sklearn.preprocessing import LabelEncoder\n",
        "from sklearn.metrics import accuracy_score, balanced_accuracy_score, confusion_matrix, classification_report, multilabel_confusion_matrix,  recall_score, precision_score, f1_score\n",
        "from sklearn.metrics import mean_squared_error\n",
        "from sklearn.metrics import explained_variance_score\n",
        "from sklearn.model_selection import train_test_split\n",
        "\n"
      ]
    },
    {
      "cell_type": "code",
      "source": [
        "# Импортируем базу\n",
        "from google.colab import files\n",
        "uploaded = files.upload()\n",
        "\n",
        "for fn in uploaded.keys():\n",
        "  print('User uploaded file \"{name}\" with length {length} bytes'.format(\n",
        "      name=fn, length=len(uploaded[fn])))\n",
        "\n",
        "import io\n",
        "data = pd.read_csv(io.StringIO(uploaded['data.csv'].decode('utf-8')))"
      ],
      "metadata": {
        "id": "1_c4vCQxQkW1"
      },
      "execution_count": null,
      "outputs": []
    },
    {
      "cell_type": "code",
      "execution_count": null,
      "metadata": {
        "id": "D9FnFkoIQLwe"
      },
      "outputs": [],
      "source": [
        "# Проверка типов\n",
        "print(data.dtypes)\n"
      ]
    },
    {
      "cell_type": "code",
      "execution_count": null,
      "metadata": {
        "id": "krh6yd7eUGiu"
      },
      "outputs": [],
      "source": [
        "# Убираем ненужные признаки\n",
        "data = data.drop(['названиерегиона','Unnamed: 0', 'Код_ученика'], axis=1)\n"
      ]
    },
    {
      "cell_type": "code",
      "source": [
        "# Кодирование\n",
        "encoder = LabelEncoder()\n",
        "data['ЛогинОО'] = encoder.fit_transform(data1['ЛогинОО'])\n",
        "print(data.dtypes)"
      ],
      "metadata": {
        "id": "Y4fByU6ocg8k"
      },
      "execution_count": null,
      "outputs": []
    },
    {
      "cell_type": "code",
      "execution_count": null,
      "metadata": {
        "id": "BhP-o0jnYDOT"
      },
      "outputs": [],
      "source": [
        "# Разделение параметров и меток\n",
        "features = data.drop(['Балл', 'Отметка'], axis=1)\n",
        "labels = data['Отметка']\n",
        "\n",
        "\n",
        "# train-test (85% - обучение, 15% - валидация)\n",
        "x_train, x_test, y_train, y_test = train_test_split(features, labels,  train_size=0.85)"
      ]
    },
    {
      "cell_type": "code",
      "execution_count": null,
      "metadata": {
        "id": "fFq94C-yYvgj"
      },
      "outputs": [],
      "source": [
        "# Преобразование в DMatrix\n",
        "d_train = xgb.DMatrix(x_train, y_train)\n",
        "d_test = xgb.DMatrix(x_test, y_test)"
      ]
    },
    {
      "cell_type": "code",
      "execution_count": null,
      "metadata": {
        "id": "KRLd_Boba7bS"
      },
      "outputs": [],
      "source": [
        "# Настройка параметров\n",
        "params_XGB = {\n",
        "    'tree_method': 'approx', # 'auto' не подходит, слижком большой датасет\n",
        "    'booster': 'gbtree',\n",
        "    'max_depth': 5, \n",
        "    'learning_rate': 0.1,\n",
        "    'sample_type': 'uniform',\n",
        "    'normalize_type': 'tree',\n",
        "    'objective': 'reg:squarederror', # регрессия с квадратом потерь\n",
        "    'rate_drop': 0.1,\n",
        "    'n_estimators': 500\n",
        "}"
      ]
    },
    {
      "cell_type": "code",
      "execution_count": null,
      "metadata": {
        "id": "m0ddaUgEa7eL"
      },
      "outputs": [],
      "source": [
        "xgb_clf = xgb.train(params_XGB, d_train)"
      ]
    },
    {
      "cell_type": "code",
      "execution_count": null,
      "metadata": {
        "id": "B47wtl7CiV8r"
      },
      "outputs": [],
      "source": [
        "# Визуализация важности параметров\n",
        "plt.figure(figsize=(16, 12))\n",
        "xgb.plot_importance(xgb_clf)\n",
        "plt.show()"
      ]
    },
    {
      "cell_type": "code",
      "execution_count": null,
      "metadata": {
        "id": "lyeEn8_xYvoJ"
      },
      "outputs": [],
      "source": [
        "# Прогноз\n",
        "preds = xgb_clf.predict(d_test)"
      ]
    },
    {
      "cell_type": "code",
      "source": [
        "preds_round = preds.round().astype(int)"
      ],
      "metadata": {
        "id": "1nw670-sn4wO"
      },
      "execution_count": null,
      "outputs": []
    },
    {
      "cell_type": "code",
      "source": [
        "# Процент ошибок в прогнозировании\n",
        "print(round((y_test != preds_round).sum() / y_test.size * 100), '%')"
      ],
      "metadata": {
        "id": "S7TZYYaMj4HR"
      },
      "execution_count": null,
      "outputs": []
    },
    {
      "cell_type": "code",
      "source": [
        "print(accuracy_score(y_test, preds_round))"
      ],
      "metadata": {
        "id": "FmTsMmQiqWGc"
      },
      "execution_count": null,
      "outputs": []
    },
    {
      "cell_type": "code",
      "source": [
        "print(np.round(mean_squared_error(y_test, preds_round)))"
      ],
      "metadata": {
        "id": "AfcFc4ZYf6ya"
      },
      "execution_count": null,
      "outputs": []
    },
    {
      "cell_type": "code",
      "execution_count": null,
      "metadata": {
        "id": "OIUS-eAgiVrb"
      },
      "outputs": [],
      "source": [
        "# DMatrix, состоящая из всех обучающих данных\n",
        "dmatrix_data_1 = xgb.DMatrix(features, labels_1)\n",
        "dmatrix_data_2 = xgb.DMatrix(features, labels_2)"
      ]
    },
    {
      "cell_type": "code",
      "execution_count": null,
      "metadata": {
        "id": "RNPQOuIpiV2h"
      },
      "outputs": [],
      "source": [
        "# Параметры\n",
        "params = {\n",
        "    'objective': 'reg:squarederror', # регрессия с квадратом потерь\n",
        "    'colsample_bytree': 0.3,\n",
        "    'learning_rate': 0.1,\n",
        "    'max_depth': 5,\n",
        "}"
      ]
    },
    {
      "cell_type": "code",
      "execution_count": null,
      "metadata": {
        "id": "ozYHkBebi-7F"
      },
      "outputs": [],
      "source": [
        "# Кросс-валидация\n",
        "cross_val = xgb.cv(\n",
        "    params=params,\n",
        "    dtrain=dmatrix_data_1, \n",
        "    nfold=3,\n",
        "    num_boost_round=50,\n",
        "    early_stopping_rounds=10,\n",
        "    metrics='error',\n",
        "    as_pandas=True,\n",
        "    seed=42)\n",
        "\n",
        "print(cross_val.head())"
      ]
    }
  ],
  "metadata": {
    "colab": {
      "name": "Чистовик",
      "provenance": [],
      "authorship_tag": "ABX9TyMMgr2NtQbbHKGYwfKwCv9l",
      "include_colab_link": true
    },
    "kernelspec": {
      "display_name": "Python 3",
      "name": "python3"
    },
    "language_info": {
      "name": "python"
    }
  },
  "nbformat": 4,
  "nbformat_minor": 0
}