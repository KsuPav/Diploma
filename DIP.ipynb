{
  "cells": [
    {
      "cell_type": "markdown",
      "metadata": {
        "id": "pxMDE9c271q8"
      },
      "source": [
        "**Импортируем необходимые библиотеки**"
      ]
    },
    {
      "cell_type": "code",
      "execution_count": null,
      "metadata": {
        "id": "T6JCSkgy8UHD"
      },
      "outputs": [],
      "source": [
        "import numpy as np\n",
        "import pandas as pd\n",
        "import matplotlib\n",
        "import matplotlib.pyplot as plt\n",
        "matplotlib.style.use('ggplot')\n",
        "%matplotlib inline\n",
        "\n",
        "import xgboost as xgb\n",
        "import sklearn\n",
        "from sklearn.preprocessing import LabelEncoder\n",
        "from sklearn.metrics import accuracy_score\n",
        "from sklearn.model_selection import train_test_split\n"
      ]
    },
    {
      "cell_type": "markdown",
      "metadata": {
        "id": "4LCQmmp1_dcs"
      },
      "source": [
        "**Загрузка CSV-файла с компьютера**"
      ]
    },
    {
      "cell_type": "code",
      "execution_count": null,
      "metadata": {
        "id": "MlfePahp_kDz"
      },
      "outputs": [],
      "source": [
        "from google.colab import files\n",
        "uploaded = files.upload()\n",
        "\n",
        "for fn in uploaded.keys():\n",
        "  print('User uploaded file \"{name}\" with length {length} bytes'.format(\n",
        "      name=fn, length=len(uploaded[fn])))\n",
        "\n",
        "import io\n",
        "data = pd.read_csv(io.StringIO(uploaded['data_19-20.csv'].decode('utf-8')))"
      ]
    },
    {
      "cell_type": "markdown",
      "metadata": {
        "id": "OtUpfAdAyF3o"
      },
      "source": [
        "**Загрузка CSV-файла с гугл диска**"
      ]
    },
    {
      "cell_type": "code",
      "execution_count": null,
      "metadata": {
        "id": "o4hSiBRgyjVg"
      },
      "outputs": [],
      "source": [
        "from google.colab import drive\n",
        "drive.mount('/content/drive')\n",
        "\n",
        "data = pd.read_csv('/content/drive/My Drive/Colab Notebooks/data_19-20.csv', encoding = 'utf-8')\n",
        "\n",
        "#data = pd.DataFrame(data)"
      ]
    },
    {
      "cell_type": "code",
      "execution_count": null,
      "metadata": {
        "id": "QjbZdawiLF_w"
      },
      "outputs": [],
      "source": [
        "#data.head()\n",
        "data"
      ]
    },
    {
      "cell_type": "markdown",
      "metadata": {
        "id": "WaEl06A1dkrb"
      },
      "source": [
        "**Обработка**"
      ]
    },
    {
      "cell_type": "code",
      "execution_count": null,
      "metadata": {
        "id": "D9FnFkoIQLwe"
      },
      "outputs": [],
      "source": [
        "# Проверка категориальности\n",
        "print(data.dtypes)"
      ]
    },
    {
      "cell_type": "code",
      "execution_count": null,
      "metadata": {
        "id": "krh6yd7eUGiu"
      },
      "outputs": [],
      "source": [
        "# Убираем ненужные признаки\n",
        "data = data.drop(['Код_ученика'], axis=1)\n",
        "print(data.dtypes)"
      ]
    },
    {
      "cell_type": "code",
      "execution_count": null,
      "metadata": {
        "id": "luaPTXPeWdUt"
      },
      "outputs": [],
      "source": [
        "# Проверка пропущенных значений\n",
        "print(data.isna().sum())"
      ]
    },
    {
      "cell_type": "code",
      "execution_count": null,
      "metadata": {
        "id": "UIsGPL8Pamn0"
      },
      "outputs": [],
      "source": [
        "# Если вдруг есть пропущенные значения\n",
        "# data['Age'].fillna(data['Age'].median(), inplace=True)\n",
        "# data['Embarked'].fillna(data['Embarked'].mode()[0], inplace=True)"
      ]
    },
    {
      "cell_type": "code",
      "source": [
        "data"
      ],
      "metadata": {
        "id": "pZkEsRloTPZX"
      },
      "execution_count": null,
      "outputs": []
    },
    {
      "cell_type": "code",
      "execution_count": null,
      "metadata": {
        "id": "BUNE7d5p_yqp"
      },
      "outputs": [],
      "source": [
        "# Кодирование\n",
        "encoder = LabelEncoder()\n",
        "\n",
        "data['ЛогинОО'] = encoder.fit_transform(data['ЛогинОО'])\n",
        "\n",
        "for col in ('Класс', 'Код_предмета', 'Балл', 'Отметка'):\n",
        "\n",
        "  #data[col] = data[col].str.replace(' ', '')\n",
        "  #data[col] = data[col].str.replace('\\t', '')\n",
        "  #data[col] = data[col].str.replace('\\n', '')\n",
        "\n",
        "  #data[col] = pd.to_numeric(data[col], errors='raise')\n",
        "\n",
        "  #data[col] = data[col].str.replace(' ', '')\n",
        "  #data[col] = data[col].astype(int)\n",
        "\n",
        "print(data.dtypes)\n",
        "data  "
      ]
    },
    {
      "cell_type": "markdown",
      "metadata": {
        "id": "UpsYatnCYxBU"
      },
      "source": [
        "**Разделение наборов**"
      ]
    },
    {
      "cell_type": "code",
      "execution_count": null,
      "metadata": {
        "id": "BhP-o0jnYDOT"
      },
      "outputs": [],
      "source": [
        "# Разделение параметров и меток\n",
        "features = data.drop(['Балл', 'Отметка'], axis=1)\n",
        "labels_1 = data['Балл']\n",
        "labels_2 = data['Отметка']\n",
        "\n",
        "# train-test (85% - обучение, 15% - валидация)\n",
        "x_train_1, x_val_1, y_train_1, y_val_1 = train_test_split(features, labels_1, train_size=0.85)\n",
        "x_train_2, x_val_2, y_train_2, y_val_2 = train_test_split(features, labels_2, train_size=0.85)"
      ]
    },
    {
      "cell_type": "code",
      "execution_count": null,
      "metadata": {
        "id": "fFq94C-yYvgj"
      },
      "outputs": [],
      "source": [
        "# Преобразование в DMatrix\n",
        "d_train_1 = xgb.DMatrix(x_train_1, y_train_1)\n",
        "d_test_1 = xgb.DMatrix(x_val_1, y_val_1)\n",
        "\n",
        "d_train_2 = xgb.DMatrix(x_train_2, y_train_2)\n",
        "d_test_2 = xgb.DMatrix(x_val_2, y_val_2)"
      ]
    },
    {
      "cell_type": "markdown",
      "metadata": {
        "id": "anY8vPref2ey"
      },
      "source": [
        "**Настройка параметров**\n",
        "\n",
        "*booster* указывает тип бустера, который будет использовать XGBoost. По умолчанию gbtree.\n",
        "\n",
        "*max_depth* - максимальная глубина дерева. Очень высокое значение может привести к перегрузке алгоритма.\n",
        "\n",
        "*learning_rate* - скорость обучения алгоритма, которая установлена на 0.1. Указание, как быстро наш алгоритм будет сходиться к оптимальному решению.\n",
        "\n",
        "*sample_type* - тип выборки, используемый для отброшенных деревьев. Может быть либо *uniform*, либо *weighted*.\n",
        "\n",
        "*normalize_type* - тип алгоритма нормализации, который будет использоваться во время обучения.\n",
        "\n",
        "*objective* - цель обучения для алгоритма. *binary:hinge* выдает результаты классификации (либо 0, либо 1).\n",
        "\n",
        "*rate_drop* - коэффициент отсева деревьев. Диапазон от 0.0 до 1.0. Использовали 0.1, значит 10% деревьев будут отброшены.\n",
        "\n",
        "*n_estimators* -  количество усиленных деревьев для использования во время обучения."
      ]
    },
    {
      "cell_type": "code",
      "execution_count": null,
      "metadata": {
        "id": "KRLd_Boba7bS"
      },
      "outputs": [],
      "source": [
        "params_0 = {\n",
        "    'tree_method': 'approx', # 'auto' не подходит, слижком большой датасет\n",
        "    'booster': 'gbtree',\n",
        "    'max_depth': 5, \n",
        "    'learning_rate': 0.1,\n",
        "    'sample_type': 'uniform',\n",
        "    'normalize_type': 'tree',\n",
        "    'objective': 'reg:squarederror', # регрессия с квадратом потерь\n",
        "    'rate_drop': 0.1,\n",
        "    'n_estimators': 500\n",
        "}"
      ]
    },
    {
      "cell_type": "code",
      "execution_count": null,
      "metadata": {
        "id": "m0ddaUgEa7eL"
      },
      "outputs": [],
      "source": [
        "xgb_clf_1 = xgb.train(params_0, d_train_1)\n",
        "xgb_clf_2 = xgb.train(params_0, d_train_2)"
      ]
    },
    {
      "cell_type": "markdown",
      "metadata": {
        "id": "AlWwVvSLkY3_"
      },
      "source": [
        "**Визуализация важности параметров**"
      ]
    },
    {
      "cell_type": "code",
      "execution_count": null,
      "metadata": {
        "id": "B47wtl7CiV8r"
      },
      "outputs": [],
      "source": [
        "plt.figure(figsize=(16, 12))\n",
        "xgb.plot_importance(xgb_clf_1)\n",
        "plt.show()\n",
        "\n",
        "plt.figure(figsize=(16, 12))\n",
        "xgb.plot_importance(xgb_clf_2)\n",
        "plt.show()"
      ]
    },
    {
      "cell_type": "code",
      "execution_count": null,
      "metadata": {
        "id": "lyeEn8_xYvoJ"
      },
      "outputs": [],
      "source": [
        "# Прогноз\n",
        "preds_1 = xgb_clf_1.predict(d_test_1)\n",
        "preds_2 = xgb_clf_2.predict(d_test_2)\n",
        "#print(preds)\n",
        "\n",
        "# Оценка точности\n",
        "print(np.round(accuracy_score(y_val_1, preds_1)*100, 2), '%')\n",
        "print(np.round(accuracy_score(y_val_2, preds_2)*100, 2), '%')"
      ]
    },
    {
      "cell_type": "markdown",
      "metadata": {
        "id": "lCxWFr-IifPR"
      },
      "source": [
        "**Кросс-валидация k-fold**"
      ]
    },
    {
      "cell_type": "code",
      "execution_count": null,
      "metadata": {
        "id": "OIUS-eAgiVrb"
      },
      "outputs": [],
      "source": [
        "# DMatrix, состоящая из всех обучающих данных\n",
        "dmatrix_data_1 = xgb.DMatrix(features, labels_1)\n",
        "dmatrix_data_2 = xgb.DMatrix(features, labels_2)"
      ]
    },
    {
      "cell_type": "code",
      "execution_count": null,
      "metadata": {
        "id": "RNPQOuIpiV2h"
      },
      "outputs": [],
      "source": [
        "# Параметры\n",
        "params = {\n",
        "    'objective': 'reg:squarederror', # регрессия с квадратом потерь\n",
        "    'colsample_bytree': 0.3,\n",
        "    'learning_rate': 0.1,\n",
        "    'max_depth': 5,\n",
        "}"
      ]
    },
    {
      "cell_type": "markdown",
      "metadata": {
        "id": "cLtSAfiFjjvS"
      },
      "source": [
        "Параметры xgb.cv():\n",
        "\n",
        "*num_boost_round* - количество итераций бустинга, для которых выполняется перекрестная проверка.\n",
        "\n",
        "*early_stopping_rounds* - если метрика валидации не улучшится за указанные раунды (в нашем случае 10), то кросс-валидация прекратится.\n",
        "\n",
        "*metrics* - метрика, по которой оценивается перекрестная проверка. *error* метрика обычно используется для двоичной классификации.\n",
        "\n",
        "*as_pandas* - результат в виде фрейма данных pandas."
      ]
    },
    {
      "cell_type": "code",
      "execution_count": null,
      "metadata": {
        "id": "ozYHkBebi-7F"
      },
      "outputs": [],
      "source": [
        "# Кросс-валидация\n",
        "cross_val_1 = xgb.cv(\n",
        "    params=params,\n",
        "    dtrain=dmatrix_data_1, \n",
        "    nfold=3,\n",
        "    num_boost_round=50,\n",
        "    early_stopping_rounds=10,\n",
        "    metrics='error',\n",
        "    as_pandas=True,\n",
        "    seed=42)\n",
        "cross_val_2 = xgb.cv(\n",
        "    params=params,\n",
        "    dtrain=dmatrix_data_2, \n",
        "    nfold=3,\n",
        "    num_boost_round=50,\n",
        "    early_stopping_rounds=10,\n",
        "    metrics='error',\n",
        "    as_pandas=True,\n",
        "    seed=42)\n",
        "\n",
        "print(cross_val_1.head())\n",
        "print(cross_val_2.head())"
      ]
    },
    {
      "cell_type": "code",
      "execution_count": null,
      "metadata": {
        "id": "2unX64WrkcuF"
      },
      "outputs": [],
      "source": [
        ""
      ]
    }
  ],
  "metadata": {
    "colab": {
      "name": "DIP",
      "provenance": []
    },
    "kernelspec": {
      "display_name": "Python 3",
      "name": "python3"
    },
    "language_info": {
      "name": "python"
    }
  },
  "nbformat": 4,
  "nbformat_minor": 0
}