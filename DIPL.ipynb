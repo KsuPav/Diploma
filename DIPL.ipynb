{
  "metadata": {
    "language_info": {
      "codemirror_mode": {
        "name": "python",
        "version": 3
      },
      "file_extension": ".py",
      "mimetype": "text/x-python",
      "name": "python",
      "nbconvert_exporter": "python",
      "pygments_lexer": "ipython3",
      "version": "3.8"
    },
    "kernelspec": {
      "name": "python",
      "display_name": "Pyolite",
      "language": "python"
    }
  },
  "nbformat_minor": 4,
  "nbformat": 4,
  "cells": [
    {
      "cell_type": "code",
      "source": "# Импортируем необходимые библиотеки\n\nimport numpy as np\nimport pandas as pd\nimport matplotlib\nimport matplotlib.pyplot as plt\nmatplotlib.style.use('ggplot')\n%matplotlib inline\n\nimport xgboost as xgb\nimport sklearn\nfrom sklearn.preprocessing import LabelEncoder\nfrom sklearn.metrics import accuracy_score\nfrom sklearn.model_selection import train_test_split",
      "metadata": {},
      "execution_count": null,
      "outputs": []
    },
    {
      "cell_type": "code",
      "source": "# Загрузка CSV-файла с компьютера\n\nfrom google.colab import files\nuploaded = files.upload()\n\nfor fn in uploaded.keys():\n  print('User uploaded file \"{name}\" with length {length} bytes'.format(\n      name=fn, length=len(uploaded[fn])))\n\nimport io\ndata = pd.read_csv(io.StringIO(uploaded['data_19-20.csv'].decode('utf-8')))",
      "metadata": {},
      "execution_count": null,
      "outputs": []
    },
    {
      "cell_type": "code",
      "source": "# ИЛИ",
      "metadata": {},
      "execution_count": null,
      "outputs": []
    },
    {
      "cell_type": "code",
      "source": "# Загрузка CSV-файла с гугл диска\n\nfrom google.colab import drive\ndrive.mount('/content/drive')\n\ndata = pd.read_csv('/content/drive/My Drive/Colab Notebooks/data_19-20.csv', encoding = 'utf-8')\n\n#data = pd.DataFrame(data)",
      "metadata": {},
      "execution_count": null,
      "outputs": []
    },
    {
      "cell_type": "code",
      "source": "#data.head()\ndata",
      "metadata": {},
      "execution_count": null,
      "outputs": []
    },
    {
      "cell_type": "code",
      "source": "# Проверка категориальности\nprint(data.dtypes)\n\n# Убираем ненужные признаки\ndata = data.drop(['Код_ученика'], axis=1)\nprint(data.dtypes)\n\n# Проверка пропущенных значений\nprint(data.isna().sum())\n\n# Если вдруг есть пропущенные значения\n# data['Age'].fillna(data['Age'].median(), inplace=True)\n# data['Embarked'].fillna(data['Embarked'].mode()[0], inplace=True)",
      "metadata": {},
      "execution_count": null,
      "outputs": []
    },
    {
      "cell_type": "code",
      "source": "data",
      "metadata": {},
      "execution_count": null,
      "outputs": []
    },
    {
      "cell_type": "code",
      "source": "# Кодирование\nencoder = LabelEncoder()\n\ndata['ЛогинОО'] = encoder.fit_transform(data['ЛогинОО'])\n\nfor col in ('Класс', 'Код_предмета', 'Балл', 'Отметка'):\n\n  #data[col] = data[col].str.replace(' ', '')\n  #data[col] = data[col].str.replace('\\t', '')\n  #data[col] = data[col].str.replace('\\n', '')\n\n  #data[col] = pd.to_numeric(data[col], errors='raise')\n\n  #data[col] = data[col].str.replace(' ', '')\n  #data[col] = data[col].astype(int)\n\nprint(data.dtypes)\ndata",
      "metadata": {},
      "execution_count": null,
      "outputs": []
    },
    {
      "cell_type": "code",
      "source": "# Разделение параметров и меток\nfeatures = data.drop(['Балл', 'Отметка'], axis=1)\nlabels_1 = data['Балл']\nlabels_2 = data['Отметка']\n\n# train-test (85% - обучение, 15% - валидация)\nx_train_1, x_val_1, y_train_1, y_val_1 = train_test_split(features, labels_1, train_size=0.85)\nx_train_2, x_val_2, y_train_2, y_val_2 = train_test_split(features, labels_2, train_size=0.85)\n\nd_train_1 = xgb.DMatrix(x_train_1, y_train_1)\nd_test_1 = xgb.DMatrix(x_val_1, y_val_1)\n\nd_train_2 = xgb.DMatrix(x_train_2, y_train_2)\nd_test_2 = xgb.DMatrix(x_val_2, y_val_2)",
      "metadata": {},
      "execution_count": null,
      "outputs": []
    },
    {
      "cell_type": "code",
      "source": "# Настройка параметров\n\nparams_0 = {\n    'tree_method': 'approx', # 'auto' не подходит, слижком большой датасет\n    'booster': 'gbtree',\n    'max_depth': 5, \n    'learning_rate': 0.1,\n    'sample_type': 'uniform',\n    'normalize_type': 'tree',\n    'objective': 'reg:squarederror', # регрессия с квадратом потерь\n    'rate_drop': 0.1,\n    'n_estimators': 500\n}",
      "metadata": {},
      "execution_count": null,
      "outputs": []
    },
    {
      "cell_type": "code",
      "source": "xgb_clf_1 = xgb.train(params_0, d_train_1)\nxgb_clf_2 = xgb.train(params_0, d_train_2)",
      "metadata": {},
      "execution_count": null,
      "outputs": []
    },
    {
      "cell_type": "code",
      "source": "# Визуализация важности параматров\n\nplt.figure(figsize=(16, 12))\nxgb.plot_importance(xgb_clf_1)\nplt.show()\n\nplt.figure(figsize=(16, 12))\nxgb.plot_importance(xgb_clf_2)\nplt.show()",
      "metadata": {},
      "execution_count": null,
      "outputs": []
    },
    {
      "cell_type": "code",
      "source": "# Прогноз\npreds_1 = xgb_clf_1.predict(d_test_1)\npreds_2 = xgb_clf_2.predict(d_test_2)\n#print(preds)\n\n# Оценка точности\nprint(np.round(accuracy_score(y_val_1, preds_1)*100, 2), '%')\nprint(np.round(accuracy_score(y_val_2, preds_2)*100, 2), '%')",
      "metadata": {},
      "execution_count": null,
      "outputs": []
    },
    {
      "cell_type": "code",
      "source": "# Кросс-валидация k-fold\n\n# DMatrix, состоящая из всех обучающих данных\ndmatrix_data_1 = xgb.DMatrix(features, labels_1)\ndmatrix_data_2 = xgb.DMatrix(features, labels_2)\n\n# Параметры\nparams = {\n    'objective': 'reg:squarederror', # регрессия с квадратом потерь\n    'colsample_bytree': 0.3,\n    'learning_rate': 0.1,\n    'max_depth': 5,\n}\n\ncross_val_1 = xgb.cv(\n    params=params,\n    dtrain=dmatrix_data_1, \n    nfold=3,\n    num_boost_round=50,\n    early_stopping_rounds=10,\n    metrics='error',\n    as_pandas=True,\n    seed=42)\ncross_val_2 = xgb.cv(\n    params=params,\n    dtrain=dmatrix_data_2, \n    nfold=3,\n    num_boost_round=50,\n    early_stopping_rounds=10,\n    metrics='error',\n    as_pandas=True,\n    seed=42)\n\nprint(cross_val_1.head())\nprint(cross_val_2.head())",
      "metadata": {},
      "execution_count": null,
      "outputs": []
    }
  ]
}