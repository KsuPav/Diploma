{
  "nbformat": 4,
  "nbformat_minor": 0,
  "metadata": {
    "colab": {
      "provenance": []
    },
    "kernelspec": {
      "name": "python3",
      "display_name": "Python 3"
    },
    "language_info": {
      "name": "python"
    }
  },
  "cells": [
    {
      "cell_type": "code",
      "source": [
        "import spark\n",
        "\n",
        "import findspark\n",
        "findspark.init()\n",
        "findspark.find()\n",
        "\n",
        "from pyspark.sql import SparkSession"
      ],
      "metadata": {
        "id": "n23CRALgr5v2"
      },
      "execution_count": null,
      "outputs": []
    },
    {
      "cell_type": "code",
      "source": [
        "# Создание SparkSession\n",
        "# getOrCreate() возвращает уже существующий SparkSession;\n",
        "# если он не существует, создается новый SparkSession.\n",
        "\n",
        "spark = SparkSession.builder.appName('SparkByExamples.com').getOrCreate()"
      ],
      "metadata": {
        "id": "uyhPhBOXscZ2"
      },
      "execution_count": null,
      "outputs": []
    },
    {
      "cell_type": "code",
      "source": [
        "# Чтение данных\n",
        "air = spark.read.option(\"delimiter\", \";\").option(\"header\", True).csv('aircraft.csv')"
      ],
      "metadata": {
        "id": "Scz4dorJscez"
      },
      "execution_count": null,
      "outputs": []
    },
    {
      "cell_type": "code",
      "source": [
        "# printSchema() отображает схему данных\n",
        "air.printSchema()"
      ],
      "metadata": {
        "id": "_QX9FrlBy2C9"
      },
      "execution_count": null,
      "outputs": []
    },
    {
      "cell_type": "code",
      "source": [
        "# show() по умолчанию отображает первые 20 строк, а также принимает число в качестве параметра для выбора их количества\n",
        "air.show()"
      ],
      "metadata": {
        "id": "MwfMLTxEschN"
      },
      "execution_count": null,
      "outputs": []
    },
    {
      "cell_type": "code",
      "source": [
        "# Сохранение данных в формате Parquet\n",
        "air.write.parquet('aircraft')"
      ],
      "metadata": {
        "id": "b9Ic7Ic_scj6"
      },
      "execution_count": null,
      "outputs": []
    },
    {
      "cell_type": "code",
      "source": [
        "parquetFile = spark.read.parquet(\"aircraft.parquet\")\n",
        "parquetFile.show()"
      ],
      "metadata": {
        "id": "uD7MWTY9y6BL"
      },
      "execution_count": null,
      "outputs": []
    },
    {
      "cell_type": "code",
      "source": [
        "# select используется для выбора одного или нескольких столбцов, используя их имена\n",
        "parquetFile.select('дата действующего свидетельства о регистрации').distinct().show(50)"
      ],
      "metadata": {
        "id": "PC8ZH89mzJ0-"
      },
      "execution_count": null,
      "outputs": []
    },
    {
      "cell_type": "code",
      "source": [
        "from pyspark.sql.functions import *\n",
        "from pyspark.sql.types import *"
      ],
      "metadata": {
        "id": "FQy2f_NzzPGj"
      },
      "execution_count": null,
      "outputs": []
    },
    {
      "cell_type": "code",
      "source": [
        "parquetFile.select(to_timestamp(col('дата действующего свидетельства о регистрации'), 'dd.MM.yyyy')).show()"
      ],
      "metadata": {
        "id": "6xYoO-QYy6Gb"
      },
      "execution_count": null,
      "outputs": []
    },
    {
      "cell_type": "code",
      "source": [
        "# groupBy группирует данные по выбранному столбцу и выполняет различные операции\n",
        "latest_date = parquetFile.groupBy(\"дата действующего свидетельства о регистрации\").agg({}).sort(to_timestamp(col('дата действующего свидетельства о регистрации'), 'dd.MM.yyyy'), ascending = False)"
      ],
      "metadata": {
        "id": "CS9n96ExzSBD"
      },
      "execution_count": null,
      "outputs": []
    },
    {
      "cell_type": "code",
      "source": [
        "latest_date.show(1)"
      ],
      "metadata": {
        "id": "quJY2o1gzSDu"
      },
      "execution_count": null,
      "outputs": []
    }
  ]
}